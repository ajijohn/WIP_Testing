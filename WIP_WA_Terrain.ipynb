{
 "cells": [
  {
   "cell_type": "code",
   "execution_count": 1,
   "id": "c91697e3-dad3-4bcf-b5a4-c35f4c365c51",
   "metadata": {
    "scrolled": true
   },
   "outputs": [
    {
     "name": "stderr",
     "output_type": "stream",
     "text": [
      "terra 1.7.71\n",
      "\n",
      "Linking to GEOS 3.10.2, GDAL 3.4.3, PROJ 8.2.0; sf_use_s2() is TRUE\n",
      "\n",
      "\n",
      "Attaching package: ‘tidyterra’\n",
      "\n",
      "\n",
      "The following object is masked from ‘package:stats’:\n",
      "\n",
      "    filter\n",
      "\n",
      "\n",
      "Warning message in rgl.init(initValue, onlyNULL):\n",
      "“RGL: unable to open X11 display”\n",
      "Warning message:\n",
      "“'rgl.init' failed, running with 'rgl.useNULL = TRUE'.”\n",
      "randomForest 4.7-1.1\n",
      "\n",
      "Type rfNews() to see new features/changes/bug fixes.\n",
      "\n",
      "Loading required package: ggplot2\n",
      "\n",
      "\n",
      "Attaching package: ‘ggplot2’\n",
      "\n",
      "\n",
      "The following object is masked from ‘package:randomForest’:\n",
      "\n",
      "    margin\n",
      "\n",
      "\n",
      "Loading required package: lattice\n",
      "\n",
      "\n",
      "Attaching package: ‘vip’\n",
      "\n",
      "\n",
      "The following object is masked from ‘package:utils’:\n",
      "\n",
      "    vi\n",
      "\n",
      "\n",
      "\n",
      "Attaching package: ‘tmap’\n",
      "\n",
      "\n",
      "The following object is masked from ‘package:datasets’:\n",
      "\n",
      "    rivers\n",
      "\n",
      "\n"
     ]
    }
   ],
   "source": [
    "\n",
    "library(terra)\n",
    "library(sf)\n",
    "library(tidyterra)\n",
    "library(MultiscaleDTM)\n",
    "library(randomForest)\n",
    "library(caret)\n",
    "library(vip)\n",
    "library(rstac)\n",
    "library(whitebox)\n",
    "library(tmap)\n",
    "\n",
    "s_obj <- stac(\"https://planetarycomputer.microsoft.com/api/stac/v1\")"
   ]
  },
  {
   "cell_type": "code",
   "execution_count": 2,
   "id": "d9b73741-b559-4d86-83d0-af61c2767762",
   "metadata": {},
   "outputs": [],
   "source": [
    "wa_dem_prj <- rast(\"data/wa_dem_diss_prj3740.tif\")\n",
    "wa_shp <- vect(\"data/wa_shp_diss.gpkg\")"
   ]
  },
  {
   "cell_type": "code",
   "execution_count": 3,
   "id": "55df17a7-4437-4398-8aff-f996344d91da",
   "metadata": {},
   "outputs": [],
   "source": [
    "terraOptions(memmax=0.01, memmin=0.01)"
   ]
  },
  {
   "cell_type": "code",
   "execution_count": 4,
   "id": "5fc2b373-39a0-44a7-a1e2-6f956e7e185d",
   "metadata": {
    "scrolled": true
   },
   "outputs": [
    {
     "name": "stdout",
     "output_type": "stream",
     "text": [
      "\n",
      "------------------------\n",
      "Memory (GB) \n",
      "------------------------\n",
      "check threshold : 0.01 (memmin)\n",
      "available       : 0.01 (memmax)\n",
      "allowed (60%)   : 0.01\n",
      "needed (n=1)    : 3.21\n",
      "------------------------\n",
      "proc in memory  : FALSE\n",
      "nr chunks       : 893\n",
      "------------------------\n"
     ]
    }
   ],
   "source": [
    "mem_info(wa_dem_prj)"
   ]
  },
  {
   "cell_type": "code",
   "execution_count": 5,
   "id": "5057046e-eaf9-4d77-80be-d01172a1386b",
   "metadata": {},
   "outputs": [
    {
     "data": {
      "text/plain": [
       "class       : SpatRaster \n",
       "dimensions  : 16959, 25378, 1  (nrow, ncol, nlyr)\n",
       "resolution  : 23.64304, 23.64304  (x, y)\n",
       "extent      : 371131.6, 971144.8, 5043580, 5444542  (xmin, xmax, ymin, ymax)\n",
       "coord. ref. : NAD83(HARN) / UTM zone 10N (EPSG:3740) \n",
       "source      : wa_dem_diss_prj3740.tif \n",
       "name        : NASADEM_HGT_n49w125 \n",
       "min value   :           -35.65501 \n",
       "max value   :          4373.03906 "
      ]
     },
     "metadata": {},
     "output_type": "display_data"
    }
   ],
   "source": [
    "wa_dem_prj"
   ]
  },
  {
   "cell_type": "code",
   "execution_count": 4,
   "id": "e2313823-a426-4f97-a10f-4adff1fd275b",
   "metadata": {},
   "outputs": [
    {
     "data": {
      "text/plain": [
       " class       : SpatVector \n",
       " geometry    : polygons \n",
       " dimensions  : 1, 0  (geometries, attributes)\n",
       " extent      : 371124.2, 971138, 5043576, 5444546  (xmin, xmax, ymin, ymax)\n",
       " source      : wa_shp_diss.gpkg\n",
       " coord. ref. : NAD83(HARN) / UTM zone 10N (EPSG:3740) "
      ]
     },
     "metadata": {},
     "output_type": "display_data"
    }
   ],
   "source": [
    "wa_shp"
   ]
  },
  {
   "cell_type": "code",
   "execution_count": 14,
   "id": "683eb200-d085-48ca-ab19-ae542433b16b",
   "metadata": {},
   "outputs": [
    {
     "data": {
      "text/html": [
       "'slope - Elapsed Time (excluding I/O): 7.213s'"
      ],
      "text/latex": [
       "'slope - Elapsed Time (excluding I/O): 7.213s'"
      ],
      "text/markdown": [
       "'slope - Elapsed Time (excluding I/O): 7.213s'"
      ],
      "text/plain": [
       "[1] \"slope - Elapsed Time (excluding I/O): 7.213s\""
      ]
     },
     "metadata": {},
     "output_type": "display_data"
    }
   ],
   "source": [
    "# wbt_slope(\n",
    "#     dem = \"data/stack_data/wa_dem_diss_prj3740.tif\",\n",
    "#     output = \"data/stack_data/wa_slope.tif\"\n",
    "# )"
   ]
  },
  {
   "cell_type": "code",
   "execution_count": 21,
   "id": "87467576-4ea0-4977-82e3-2d0fbd63d85d",
   "metadata": {},
   "outputs": [
    {
     "name": "stderr",
     "output_type": "stream",
     "text": [
      "Warning message in system(args2, intern = TRUE):\n",
      "“running command '/home/ajs0428/R/x86_64-pc-linux-gnu-library/4.3/whitebox/WBT/whitebox_tools --run=multiscale_roughness  --dem=data/stack_data/wa_dem_diss_prj3740.tif --out_mag=data/stack_data/wa_roughmag.tif --out_scale=data/stack_data/wa_roughscale.tif --max_scale=20 --min_scale=1 --step=5 -v' had status 137”\n"
     ]
    },
    {
     "data": {
      "text/html": [
       "'multiscale_roughness - Reading data...'"
      ],
      "text/latex": [
       "'multiscale\\_roughness - Reading data...'"
      ],
      "text/markdown": [
       "'multiscale_roughness - Reading data...'"
      ],
      "text/plain": [
       "[1] \"multiscale_roughness - Reading data...\""
      ]
     },
     "metadata": {},
     "output_type": "display_data"
    }
   ],
   "source": [
    "wbt_multiscale_roughness(\n",
    "    dem = \"data/stack_data/wa_dem_diss_prj3740.tif\",\n",
    "    out_mag = \"data/stack_data/wa_roughmag.tif\",\n",
    "    out_scale = \"data/stack_data/wa_roughscale.tif\",\n",
    "    min_scale = 1,\n",
    "    max_scale = 20,\n",
    "    step = 5\n",
    ")"
   ]
  },
  {
   "cell_type": "code",
   "execution_count": 16,
   "id": "eb4c8f43-9f4f-4881-94f0-ac227e96ffc8",
   "metadata": {},
   "outputs": [
    {
     "data": {
      "text/html": [
       "'plan_curvature - Elapsed Time (excluding I/O): 6.561s'"
      ],
      "text/latex": [
       "'plan\\_curvature - Elapsed Time (excluding I/O): 6.561s'"
      ],
      "text/markdown": [
       "'plan_curvature - Elapsed Time (excluding I/O): 6.561s'"
      ],
      "text/plain": [
       "[1] \"plan_curvature - Elapsed Time (excluding I/O): 6.561s\""
      ]
     },
     "metadata": {},
     "output_type": "display_data"
    }
   ],
   "source": [
    "wbt_plan_curvature(\n",
    "    dem = \"data/stack_data/wa_dem_diss_prj3740.tif\",\n",
    "    output = \"data/stack_data/wa_planc.tif\"\n",
    ")"
   ]
  },
  {
   "cell_type": "code",
   "execution_count": 17,
   "id": "6d77d341-91e5-4870-b999-c0c445c2c90d",
   "metadata": {},
   "outputs": [
    {
     "data": {
      "text/html": [
       "'profile_curvature - Elapsed Time (excluding I/O): 7.51s'"
      ],
      "text/latex": [
       "'profile\\_curvature - Elapsed Time (excluding I/O): 7.51s'"
      ],
      "text/markdown": [
       "'profile_curvature - Elapsed Time (excluding I/O): 7.51s'"
      ],
      "text/plain": [
       "[1] \"profile_curvature - Elapsed Time (excluding I/O): 7.51s\""
      ]
     },
     "metadata": {},
     "output_type": "display_data"
    }
   ],
   "source": [
    "wbt_profile_curvature(\n",
    "    dem = \"data/stack_data/wa_dem_diss_prj3740.tif\",\n",
    "    output = \"data/stack_data/wa_profc.tif\"\n",
    ")"
   ]
  },
  {
   "cell_type": "code",
   "execution_count": 18,
   "id": "b627093d-946e-431a-8ab8-24afba75e49b",
   "metadata": {},
   "outputs": [
    {
     "data": {
      "text/html": [
       "'d_inf_pointer - **********************************************************************************'"
      ],
      "text/latex": [
       "'d\\_inf\\_pointer - **********************************************************************************'"
      ],
      "text/markdown": [
       "'d_inf_pointer - **********************************************************************************'"
      ],
      "text/plain": [
       "[1] \"d_inf_pointer - **********************************************************************************\""
      ]
     },
     "metadata": {},
     "output_type": "display_data"
    }
   ],
   "source": [
    "wbt_d_inf_pointer(\n",
    "    dem = \"data/stack_data/wa_dem_diss_prj3740.tif\",\n",
    "    output = \"data/stack_data/wa_dinfpoint.tif\"\n",
    ")"
   ]
  },
  {
   "cell_type": "code",
   "execution_count": 19,
   "id": "7f0e71a7-5594-4327-be27-0af371420103",
   "metadata": {},
   "outputs": [
    {
     "data": {
      "text/html": [
       "'d_inf_flow_accumulation - **********************************************************************************'"
      ],
      "text/latex": [
       "'d\\_inf\\_flow\\_accumulation - **********************************************************************************'"
      ],
      "text/markdown": [
       "'d_inf_flow_accumulation - **********************************************************************************'"
      ],
      "text/plain": [
       "[1] \"d_inf_flow_accumulation - **********************************************************************************\""
      ]
     },
     "metadata": {},
     "output_type": "display_data"
    }
   ],
   "source": [
    "wbt_d_inf_flow_accumulation(\n",
    "    i = \"data/stack_data/wa_dinfpoint.tif\",\n",
    "    output = \"data/stack_data/wa_dinfsca.tif\"\n",
    ")"
   ]
  },
  {
   "cell_type": "code",
   "execution_count": 7,
   "id": "9f7d4b63-6b91-46a4-94e8-f10eb47da939",
   "metadata": {},
   "outputs": [
    {
     "data": {
      "text/html": [
       "'wetness_index - Elapsed Time (excluding I/O): 5.331s'"
      ],
      "text/latex": [
       "'wetness\\_index - Elapsed Time (excluding I/O): 5.331s'"
      ],
      "text/markdown": [
       "'wetness_index - Elapsed Time (excluding I/O): 5.331s'"
      ],
      "text/plain": [
       "[1] \"wetness_index - Elapsed Time (excluding I/O): 5.331s\""
      ]
     },
     "metadata": {},
     "output_type": "display_data"
    }
   ],
   "source": [
    "wbt_wetness_index(\n",
    "    sca = \"data/stack_data/wa_dinfsca.tif\",\n",
    "    slope = \"data/stack_data/wa_slope.tif\",\n",
    "    output = \"data/stack_data/wa_twi.tif\"\n",
    ")"
   ]
  },
  {
   "cell_type": "code",
   "execution_count": 9,
   "id": "823ae57e-4dba-4c0b-889e-5802d3d62899",
   "metadata": {},
   "outputs": [
    {
     "data": {
      "text/html": [
       "'ruggedness_index - Elapsed Time (excluding I/O): 5.346s'"
      ],
      "text/latex": [
       "'ruggedness\\_index - Elapsed Time (excluding I/O): 5.346s'"
      ],
      "text/markdown": [
       "'ruggedness_index - Elapsed Time (excluding I/O): 5.346s'"
      ],
      "text/plain": [
       "[1] \"ruggedness_index - Elapsed Time (excluding I/O): 5.346s\""
      ]
     },
     "metadata": {},
     "output_type": "display_data"
    }
   ],
   "source": [
    "wbt_ruggedness_index(\n",
    "    dem = \"data/stack_data/wa_dem_diss_prj3740.tif\",\n",
    "    output = \"data/stack_data/wa_rugged.tif\"\n",
    ")"
   ]
  },
  {
   "cell_type": "code",
   "execution_count": 10,
   "id": "6fd5c1ca-4abc-4ace-845b-0ef1299f20be",
   "metadata": {},
   "outputs": [
    {
     "data": {
      "text/html": [
       "\n",
       "<table style=\"width: 100%;\"><tr><td>focal {terra}</td><td style=\"text-align: right;\">R Documentation</td></tr></table>\n",
       "\n",
       "<h2 id='focal'>Focal values</h2>\n",
       "\n",
       "<h3>Description</h3>\n",
       "\n",
       "<p>Calculate focal (&quot;moving window&quot;) values for each cell.\n",
       "</p>\n",
       "\n",
       "\n",
       "<h3>Usage</h3>\n",
       "\n",
       "<pre><code class='language-R'>## S4 method for signature 'SpatRaster'\n",
       "focal(x, w=3, fun=\"sum\", ..., na.policy=\"all\", fillvalue=NA, \n",
       "\t\texpand=FALSE, silent=TRUE, filename=\"\", overwrite=FALSE, wopt=list()) \n",
       "</code></pre>\n",
       "\n",
       "\n",
       "<h3>Arguments</h3>\n",
       "\n",
       "<table>\n",
       "<tr><td><code id=\"focal_:_x\">x</code></td>\n",
       "<td>\n",
       "<p>SpatRaster</p>\n",
       "</td></tr>\n",
       "<tr><td><code id=\"focal_:_w\">w</code></td>\n",
       "<td>\n",
       "<p>window. The window can be defined as one (for a square) or two numbers (row, col); or with an odd-sized weights matrix. See Details.</p>\n",
       "</td></tr>\n",
       "<tr><td><code id=\"focal_:_fun\">fun</code></td>\n",
       "<td>\n",
       "<p>function that takes multiple numbers, and returns a numeric vector (one or multiple numbers). For example mean, modal, min or max</p>\n",
       "</td></tr>\n",
       "<tr><td><code id=\"focal_:_...\">...</code></td>\n",
       "<td>\n",
       "<p>additional arguments passed to <code>fun</code> such as <code>na.rm</code></p>\n",
       "</td></tr>\n",
       "<tr><td><code id=\"focal_:_na.policy\">na.policy</code></td>\n",
       "<td>\n",
       "<p>character. Can be used to determine the cells of <code>x</code> for which focal values should be computed. Must be one of &quot;all&quot; (compute for all cells), &quot;only&quot; (only for cells that are <code>NA</code>) or &quot;omit&quot; (skip cells that are <code>NA</code>). Note that the value of this argument does not affect which cells around each focal cell are included in the computations (use <code>na.rm=TRUE</code> to ignore cells that are <code>NA</code> for that)</p>\n",
       "</td></tr>\n",
       "<tr><td><code id=\"focal_:_fillvalue\">fillvalue</code></td>\n",
       "<td>\n",
       "<p>numeric. The value of the cells in the virtual rows and columns outside of the raster</p>\n",
       "</td></tr>\n",
       "<tr><td><code id=\"focal_:_expand\">expand</code></td>\n",
       "<td>\n",
       "<p>logical. If <code>TRUE</code> The value of the cells in the virtual rows and columns outside of the raster are set to be the same as the value on the border. Only available for &quot;build-in&quot; <code>fun</code>s such as mean, sum, min and max</p>\n",
       "</td></tr>\n",
       "<tr><td><code id=\"focal_:_silent\">silent</code></td>\n",
       "<td>\n",
       "<p>logical. If <code>TRUE</code> error messages are printed that may occur when trying <code>fun</code> to determine the length of the returned value. This can be useful in debugging a <code>fun</code> that does not work</p>\n",
       "</td></tr>\n",
       "<tr><td><code id=\"focal_:_filename\">filename</code></td>\n",
       "<td>\n",
       "<p>character. Output filename</p>\n",
       "</td></tr>\n",
       "<tr><td><code id=\"focal_:_overwrite\">overwrite</code></td>\n",
       "<td>\n",
       "<p>logical. If <code>TRUE</code>, <code>filename</code> is overwritten</p>\n",
       "</td></tr>\n",
       "<tr><td><code id=\"focal_:_wopt\">wopt</code></td>\n",
       "<td>\n",
       "<p>additional arguments for writing files as in <code>writeRaster</code></p>\n",
       "</td></tr>\n",
       "</table>\n",
       "\n",
       "\n",
       "<h3>Details</h3>\n",
       "\n",
       "<p><code>focal</code> \n",
       "The window used must have odd dimensions. If you need even sides, you can use a matrix and add a column or row of <code>NA</code>'s to mask out values.\n",
       "</p>\n",
       "<p>Window values are typically 1 or <code>NA</code> to indicate whether a value is used or ignored in computations, respectively. <code>NA</code> values in <code>w</code> can be useful for creating non-rectangular (e.g. circular) windows. \n",
       "</p>\n",
       "<p>A weights matrix of numeric values can also be supplied to <code>w</code>. In the case of a weights matrix, cells with <code>NA</code> weights will be ignored, and the rest of the values in the focal window will be multiplied by the corresponding weight prior to 'fun' being applied. Note, <code>na.rm</code> does not need to be <code>TRUE</code> if <code>w</code> contains <code>NA</code> values as these cells are ignored in computations. \n",
       "</p>\n",
       "<p>The &quot;mean&quot; function is a special case, where supplying weights to <code>w</code> will instead calculate a weighted mean.\n",
       "</p>\n",
       "<p>The &quot;sum&quot; function returns <code>NA</code> if all focal cells are <code>NA</code> and <code>na.rm=TRUE</code>. R would normally return a zero in these cases. See the difference between <code>focal(x, fun=sum, na.rm=TRUE)</code> and <code>focal(x, fun=\\(i) sum(i, na.rm=TRUE))</code>\n",
       "</p>\n",
       "<p>Example weight matrices\n",
       "</p>\n",
       "<p>Laplacian filter: <code>filter=matrix(c(0,1,0,1,-4,1,0,1,0), nrow=3)</code>\n",
       "</p>\n",
       "<p>Sobel filters (for edge detection):\n",
       "</p>\n",
       "<p><code>fx=matrix(c(-1,-2,-1,0,0,0,1,2,1), nrow=3)</code>\n",
       "</p>\n",
       "<p><code>fy=matrix(c(1,0,-1,2,0,-2,1,0,-1), nrow=3)</code>\n",
       "</p>\n",
       "\n",
       "\n",
       "<h3>Value</h3>\n",
       "\n",
       "<p>SpatRaster</p>\n",
       "\n",
       "\n",
       "<h3>Note</h3>\n",
       "\n",
       "<p>When using global lon/lat rasters, the focal window &quot;wraps around&quot; the date-line.\n",
       "</p>\n",
       "\n",
       "\n",
       "<h3>See Also</h3>\n",
       "\n",
       " <p><code>focalMat</code>, <code>focalValues</code>, <code>focal3D</code>, <code>focalPairs</code>, <code>focalReg</code>, <code>focalCpp</code> </p>\n",
       "\n",
       "\n",
       "<h3>Examples</h3>\n",
       "\n",
       "<pre><code class='language-R'>r &lt;- rast(ncols=10, nrows=10, ext(0, 10, 0, 10))\n",
       "values(r) &lt;- 1:ncell(r)\n",
       "\n",
       "f &lt;- focal(r, w=3, fun=function(x, ...) quantile(x, c(.25, .5, .75), ...), na.rm=TRUE) \n",
       "\n",
       "f &lt;- focal(r, w=3, fun=\"mean\") \n",
       "\n",
       "# the following two statements are equivalent:\n",
       "a &lt;- focal(r, w=matrix(1/9, nc=3, nr=3))\n",
       "b &lt;- focal(r, w=3, fun=mean, na.rm=FALSE)\n",
       "\n",
       "# but this is different\n",
       "d &lt;- focal(r, w=3, fun=mean, na.rm=TRUE)\n",
       "\n",
       "## illustrating the effect of different \n",
       "## combinations of na.rm and na.policy\n",
       "v &lt;- vect(system.file(\"ex/lux.shp\", package=\"terra\"))\n",
       "r &lt;- rast(system.file(\"ex/elev.tif\", package=\"terra\"))\n",
       "r[45:50, 45:50] &lt;- NA\n",
       "\n",
       "# also try \"mean\" or \"min\"\n",
       "f &lt;- \"sum\" \n",
       "# na.rm=FALSE\n",
       "plot(focal(r, 5, f) , fun=lines(v))\n",
       "\n",
       "# na.rm=TRUE\n",
       "plot(focal(r, 5, f, na.rm=TRUE), fun=lines(v))\n",
       "\n",
       "# only change cells that are NA\n",
       "plot(focal(r, 5, f, na.policy=\"only\", na.rm=TRUE), fun=lines(v))\n",
       "\n",
       "# do not change cells that are NA\n",
       "plot(focal(r, 5, f, na.policy=\"omit\", na.rm=TRUE), fun=lines(v))\n",
       "\n",
       "# does not do anything\n",
       "# focal(r, 5, f, na.policy=\"only\", na.rm=FALSE)\n",
       "</code></pre>\n",
       "\n",
       "<hr /><div style=\"text-align: center;\">[Package <em>terra</em> version 1.7-71 ]</div>\n",
       "</div>"
      ],
      "text/latex": [
       "\\inputencoding{utf8}\n",
       "\\HeaderA{focal}{Focal values}{focal}\n",
       "\\aliasA{focal,SpatRaster-method}{focal}{focal,SpatRaster.Rdash.method}\n",
       "\\keyword{spatial}{focal}\n",
       "%\n",
       "\\begin{Description}\n",
       "Calculate focal (\"moving window\") values for each cell.\n",
       "\\end{Description}\n",
       "%\n",
       "\\begin{Usage}\n",
       "\\begin{verbatim}\n",
       "## S4 method for signature 'SpatRaster'\n",
       "focal(x, w=3, fun=\"sum\", ..., na.policy=\"all\", fillvalue=NA, \n",
       "\t\texpand=FALSE, silent=TRUE, filename=\"\", overwrite=FALSE, wopt=list()) \n",
       "\\end{verbatim}\n",
       "\\end{Usage}\n",
       "%\n",
       "\\begin{Arguments}\n",
       "\\begin{ldescription}\n",
       "\\item[\\code{x}] SpatRaster\n",
       "\n",
       "\\item[\\code{w}] window. The window can be defined as one (for a square) or two numbers (row, col); or with an odd-sized weights matrix. See Details.\n",
       "\n",
       "\\item[\\code{fun}] function that takes multiple numbers, and returns a numeric vector (one or multiple numbers). For example mean, modal, min or max\n",
       "\n",
       "\\item[\\code{...}] additional arguments passed to \\code{fun} such as \\code{na.rm}\n",
       "\n",
       "\\item[\\code{na.policy}] character. Can be used to determine the cells of \\code{x} for which focal values should be computed. Must be one of \"all\" (compute for all cells), \"only\" (only for cells that are \\code{NA}) or \"omit\" (skip cells that are \\code{NA}). Note that the value of this argument does not affect which cells around each focal cell are included in the computations (use \\code{na.rm=TRUE} to ignore cells that are \\code{NA} for that)\n",
       "\n",
       "\\item[\\code{fillvalue}] numeric. The value of the cells in the virtual rows and columns outside of the raster\n",
       "\n",
       "\\item[\\code{expand}] logical. If \\code{TRUE} The value of the cells in the virtual rows and columns outside of the raster are set to be the same as the value on the border. Only available for \"build-in\" \\code{fun}s such as mean, sum, min and max\n",
       "\n",
       "\\item[\\code{silent}] logical. If \\code{TRUE} error messages are printed that may occur when trying \\code{fun} to determine the length of the returned value. This can be useful in debugging a \\code{fun} that does not work\n",
       "\n",
       "\\item[\\code{filename}] character. Output filename\n",
       "\\item[\\code{overwrite}] logical. If \\code{TRUE}, \\code{filename} is overwritten\n",
       "\n",
       "\\item[\\code{wopt}] additional arguments for writing files as in \\code{\\LinkA{writeRaster}{writeRaster}}\n",
       "\\end{ldescription}\n",
       "\\end{Arguments}\n",
       "%\n",
       "\\begin{Details}\n",
       "\\code{focal} \n",
       "The window used must have odd dimensions. If you need even sides, you can use a matrix and add a column or row of \\code{NA}'s to mask out values.\n",
       "\n",
       "Window values are typically 1 or \\code{NA} to indicate whether a value is used or ignored in computations, respectively. \\code{NA} values in \\code{w} can be useful for creating non-rectangular (e.g. circular) windows. \n",
       "\n",
       "A weights matrix of numeric values can also be supplied to \\code{w}. In the case of a weights matrix, cells with \\code{NA} weights will be ignored, and the rest of the values in the focal window will be multiplied by the corresponding weight prior to `fun` being applied. Note, \\code{na.rm} does not need to be \\code{TRUE} if \\code{w} contains \\code{NA} values as these cells are ignored in computations. \n",
       "\n",
       "The \"mean\" function is a special case, where supplying weights to \\code{w} will instead calculate a weighted mean.\n",
       "\n",
       "The \"sum\" function returns \\code{NA} if all focal cells are \\code{NA} and \\code{na.rm=TRUE}. R would normally return a zero in these cases. See the difference between \\code{focal(x, fun=sum, na.rm=TRUE)} and \\code{focal(x, fun=\\bsl{}(i) sum(i, na.rm=TRUE))}\n",
       "\n",
       "\n",
       "Example weight matrices\n",
       "\n",
       "Laplacian filter: \\code{filter=matrix(c(0,1,0,1,-4,1,0,1,0), nrow=3)}\n",
       "\n",
       "Sobel filters (for edge detection):\n",
       "\n",
       "\\code{fx=matrix(c(-1,-2,-1,0,0,0,1,2,1), nrow=3)}\n",
       "\n",
       "\\code{fy=matrix(c(1,0,-1,2,0,-2,1,0,-1), nrow=3)}\n",
       "\\end{Details}\n",
       "%\n",
       "\\begin{Value}\n",
       "SpatRaster\n",
       "\\end{Value}\n",
       "%\n",
       "\\begin{Note}\n",
       "When using global lon/lat rasters, the focal window \"wraps around\" the date-line.\n",
       "\\end{Note}\n",
       "%\n",
       "\\begin{SeeAlso}\n",
       " \\code{\\LinkA{focalMat}{focalMat}}, \\code{\\LinkA{focalValues}{focalValues}}, \\code{\\LinkA{focal3D}{focal3D}}, \\code{\\LinkA{focalPairs}{focalPairs}}, \\code{\\LinkA{focalReg}{focalReg}}, \\code{\\LinkA{focalCpp}{focalCpp}} \n",
       "\\end{SeeAlso}\n",
       "%\n",
       "\\begin{Examples}\n",
       "\\begin{ExampleCode}\n",
       "r <- rast(ncols=10, nrows=10, ext(0, 10, 0, 10))\n",
       "values(r) <- 1:ncell(r)\n",
       "\n",
       "f <- focal(r, w=3, fun=function(x, ...) quantile(x, c(.25, .5, .75), ...), na.rm=TRUE) \n",
       "\n",
       "f <- focal(r, w=3, fun=\"mean\") \n",
       "\n",
       "# the following two statements are equivalent:\n",
       "a <- focal(r, w=matrix(1/9, nc=3, nr=3))\n",
       "b <- focal(r, w=3, fun=mean, na.rm=FALSE)\n",
       "\n",
       "# but this is different\n",
       "d <- focal(r, w=3, fun=mean, na.rm=TRUE)\n",
       "\n",
       "## illustrating the effect of different \n",
       "## combinations of na.rm and na.policy\n",
       "v <- vect(system.file(\"ex/lux.shp\", package=\"terra\"))\n",
       "r <- rast(system.file(\"ex/elev.tif\", package=\"terra\"))\n",
       "r[45:50, 45:50] <- NA\n",
       "\n",
       "# also try \"mean\" or \"min\"\n",
       "f <- \"sum\" \n",
       "# na.rm=FALSE\n",
       "plot(focal(r, 5, f) , fun=lines(v))\n",
       "\n",
       "# na.rm=TRUE\n",
       "plot(focal(r, 5, f, na.rm=TRUE), fun=lines(v))\n",
       "\n",
       "# only change cells that are NA\n",
       "plot(focal(r, 5, f, na.policy=\"only\", na.rm=TRUE), fun=lines(v))\n",
       "\n",
       "# do not change cells that are NA\n",
       "plot(focal(r, 5, f, na.policy=\"omit\", na.rm=TRUE), fun=lines(v))\n",
       "\n",
       "# does not do anything\n",
       "# focal(r, 5, f, na.policy=\"only\", na.rm=FALSE)\n",
       "\\end{ExampleCode}\n",
       "\\end{Examples}"
      ],
      "text/plain": [
       "focal                  package:terra                   R Documentation\n",
       "\n",
       "_\bF_\bo_\bc_\ba_\bl _\bv_\ba_\bl_\bu_\be_\bs\n",
       "\n",
       "_\bD_\be_\bs_\bc_\br_\bi_\bp_\bt_\bi_\bo_\bn:\n",
       "\n",
       "     Calculate focal (\"moving window\") values for each cell.\n",
       "\n",
       "_\bU_\bs_\ba_\bg_\be:\n",
       "\n",
       "     ## S4 method for signature 'SpatRaster'\n",
       "     focal(x, w=3, fun=\"sum\", ..., na.policy=\"all\", fillvalue=NA, \n",
       "                     expand=FALSE, silent=TRUE, filename=\"\", overwrite=FALSE, wopt=list()) \n",
       "     \n",
       "_\bA_\br_\bg_\bu_\bm_\be_\bn_\bt_\bs:\n",
       "\n",
       "       x: SpatRaster\n",
       "\n",
       "       w: window. The window can be defined as one (for a square) or\n",
       "          two numbers (row, col); or with an odd-sized weights matrix.\n",
       "          See Details.\n",
       "\n",
       "     fun: function that takes multiple numbers, and returns a numeric\n",
       "          vector (one or multiple numbers). For example mean, modal,\n",
       "          min or max\n",
       "\n",
       "     ...: additional arguments passed to ‘fun’ such as ‘na.rm’\n",
       "\n",
       "na.policy: character. Can be used to determine the cells of ‘x’ for\n",
       "          which focal values should be computed. Must be one of \"all\"\n",
       "          (compute for all cells), \"only\" (only for cells that are\n",
       "          ‘NA’) or \"omit\" (skip cells that are ‘NA’). Note that the\n",
       "          value of this argument does not affect which cells around\n",
       "          each focal cell are included in the computations (use\n",
       "          ‘na.rm=TRUE’ to ignore cells that are ‘NA’ for that)\n",
       "\n",
       "fillvalue: numeric. The value of the cells in the virtual rows and\n",
       "          columns outside of the raster\n",
       "\n",
       "  expand: logical. If ‘TRUE’ The value of the cells in the virtual rows\n",
       "          and columns outside of the raster are set to be the same as\n",
       "          the value on the border. Only available for \"build-in\" ‘fun’s\n",
       "          such as mean, sum, min and max\n",
       "\n",
       "  silent: logical. If ‘TRUE’ error messages are printed that may occur\n",
       "          when trying ‘fun’ to determine the length of the returned\n",
       "          value. This can be useful in debugging a ‘fun’ that does not\n",
       "          work\n",
       "\n",
       "filename: character. Output filename\n",
       "\n",
       "overwrite: logical. If ‘TRUE’, ‘filename’ is overwritten\n",
       "\n",
       "    wopt: additional arguments for writing files as in ‘writeRaster’\n",
       "\n",
       "_\bD_\be_\bt_\ba_\bi_\bl_\bs:\n",
       "\n",
       "     ‘focal’ The window used must have odd dimensions. If you need even\n",
       "     sides, you can use a matrix and add a column or row of ‘NA’'s to\n",
       "     mask out values.\n",
       "\n",
       "     Window values are typically 1 or ‘NA’ to indicate whether a value\n",
       "     is used or ignored in computations, respectively. ‘NA’ values in\n",
       "     ‘w’ can be useful for creating non-rectangular (e.g. circular)\n",
       "     windows.\n",
       "\n",
       "     A weights matrix of numeric values can also be supplied to ‘w’. In\n",
       "     the case of a weights matrix, cells with ‘NA’ weights will be\n",
       "     ignored, and the rest of the values in the focal window will be\n",
       "     multiplied by the corresponding weight prior to `fun` being\n",
       "     applied. Note, ‘na.rm’ does not need to be ‘TRUE’ if ‘w’ contains\n",
       "     ‘NA’ values as these cells are ignored in computations.\n",
       "\n",
       "     The \"mean\" function is a special case, where supplying weights to\n",
       "     ‘w’ will instead calculate a weighted mean.\n",
       "\n",
       "     The \"sum\" function returns ‘NA’ if all focal cells are ‘NA’ and\n",
       "     ‘na.rm=TRUE’. R would normally return a zero in these cases. See\n",
       "     the difference between ‘focal(x, fun=sum, na.rm=TRUE)’ and\n",
       "     ‘focal(x, fun=\\(i) sum(i, na.rm=TRUE))’\n",
       "\n",
       "     Example weight matrices\n",
       "\n",
       "     Laplacian filter: ‘filter=matrix(c(0,1,0,1,-4,1,0,1,0), nrow=3)’\n",
       "\n",
       "     Sobel filters (for edge detection):\n",
       "\n",
       "     ‘fx=matrix(c(-1,-2,-1,0,0,0,1,2,1), nrow=3)’\n",
       "\n",
       "     ‘fy=matrix(c(1,0,-1,2,0,-2,1,0,-1), nrow=3)’\n",
       "\n",
       "_\bV_\ba_\bl_\bu_\be:\n",
       "\n",
       "     SpatRaster\n",
       "\n",
       "_\bN_\bo_\bt_\be:\n",
       "\n",
       "     When using global lon/lat rasters, the focal window \"wraps around\"\n",
       "     the date-line.\n",
       "\n",
       "_\bS_\be_\be _\bA_\bl_\bs_\bo:\n",
       "\n",
       "     ‘focalMat’, ‘focalValues’, ‘focal3D’, ‘focalPairs’, ‘focalReg’,\n",
       "     ‘focalCpp’\n",
       "\n",
       "_\bE_\bx_\ba_\bm_\bp_\bl_\be_\bs:\n",
       "\n",
       "     r <- rast(ncols=10, nrows=10, ext(0, 10, 0, 10))\n",
       "     values(r) <- 1:ncell(r)\n",
       "     \n",
       "     f <- focal(r, w=3, fun=function(x, ...) quantile(x, c(.25, .5, .75), ...), na.rm=TRUE) \n",
       "     \n",
       "     f <- focal(r, w=3, fun=\"mean\") \n",
       "     \n",
       "     # the following two statements are equivalent:\n",
       "     a <- focal(r, w=matrix(1/9, nc=3, nr=3))\n",
       "     b <- focal(r, w=3, fun=mean, na.rm=FALSE)\n",
       "     \n",
       "     # but this is different\n",
       "     d <- focal(r, w=3, fun=mean, na.rm=TRUE)\n",
       "     \n",
       "     ## illustrating the effect of different \n",
       "     ## combinations of na.rm and na.policy\n",
       "     v <- vect(system.file(\"ex/lux.shp\", package=\"terra\"))\n",
       "     r <- rast(system.file(\"ex/elev.tif\", package=\"terra\"))\n",
       "     r[45:50, 45:50] <- NA\n",
       "     \n",
       "     # also try \"mean\" or \"min\"\n",
       "     f <- \"sum\" \n",
       "     # na.rm=FALSE\n",
       "     plot(focal(r, 5, f) , fun=lines(v))\n",
       "     \n",
       "     # na.rm=TRUE\n",
       "     plot(focal(r, 5, f, na.rm=TRUE), fun=lines(v))\n",
       "     \n",
       "     # only change cells that are NA\n",
       "     plot(focal(r, 5, f, na.policy=\"only\", na.rm=TRUE), fun=lines(v))\n",
       "     \n",
       "     # do not change cells that are NA\n",
       "     plot(focal(r, 5, f, na.policy=\"omit\", na.rm=TRUE), fun=lines(v))\n",
       "     \n",
       "     # does not do anything\n",
       "     # focal(r, 5, f, na.policy=\"only\", na.rm=FALSE)\n",
       "     "
      ]
     },
     "metadata": {},
     "output_type": "display_data"
    }
   ],
   "source": [
    "?terra::focal"
   ]
  },
  {
   "cell_type": "code",
   "execution_count": null,
   "id": "9b9a0fb2-ebc8-4afc-af79-952c808e8f0a",
   "metadata": {},
   "outputs": [],
   "source": [
    "# wa_curv3 <- MultiscaleDTM::Qfit(wa_dem_prj, w = c(3,3), metrics = c(\"profc\", \"planc\", \"meanc\"),\n",
    "#                                filename = \"data/wa_curv3.tif\")"
   ]
  },
  {
   "cell_type": "code",
   "execution_count": null,
   "id": "c501f752-a1fe-4c91-b660-9cc2e2f50fcc",
   "metadata": {},
   "outputs": [],
   "source": [
    "# system.time(MultiscaleDTM::Qfit(wa_dem_prj, w = c(27,27), metrics = c(\"profc\", \"planc\", \"meanc\"),\n",
    "#                                filename = \"data/wa_curv27.tif\"))"
   ]
  },
  {
   "cell_type": "code",
   "execution_count": null,
   "id": "ed174baa-f0dd-49e0-a509-619807fd09d7",
   "metadata": {},
   "outputs": [],
   "source": [
    "# wa_curv81 <- MultiscaleDTM::Qfit(wa_dem_prj, w = c(81,81), metrics = c(\"profc\", \"planc\", \"meanc\"),\n",
    "#                                filename = \"data/wa_curv27.tif\")"
   ]
  },
  {
   "cell_type": "code",
   "execution_count": 6,
   "id": "28e08d44-2e30-4f9f-aeb9-7e711a36de40",
   "metadata": {},
   "outputs": [
    {
     "data": {
      "text/html": [
       "\n",
       "<table style=\"width: 100%;\"><tr><td>wbt_wetness_index {whitebox}</td><td style=\"text-align: right;\">R Documentation</td></tr></table>\n",
       "\n",
       "<h2 id='wbt_wetness_index'>Wetness index</h2>\n",
       "\n",
       "<h3>Description</h3>\n",
       "\n",
       "<p>Calculates the topographic wetness index, Ln(A / tan(slope)).\n",
       "</p>\n",
       "\n",
       "\n",
       "<h3>Usage</h3>\n",
       "\n",
       "<pre><code class='language-R'>wbt_wetness_index(sca, slope, output, wd = NULL, verbose_mode = FALSE)\n",
       "</code></pre>\n",
       "\n",
       "\n",
       "<h3>Arguments</h3>\n",
       "\n",
       "<table>\n",
       "<tr><td><code id=\"wbt_wetness_index_:_sca\">sca</code></td>\n",
       "<td>\n",
       "<p>Input raster specific contributing area (SCA) file.</p>\n",
       "</td></tr>\n",
       "<tr><td><code id=\"wbt_wetness_index_:_slope\">slope</code></td>\n",
       "<td>\n",
       "<p>Input raster slope file (in degrees).</p>\n",
       "</td></tr>\n",
       "<tr><td><code id=\"wbt_wetness_index_:_output\">output</code></td>\n",
       "<td>\n",
       "<p>Output raster file.</p>\n",
       "</td></tr>\n",
       "<tr><td><code id=\"wbt_wetness_index_:_wd\">wd</code></td>\n",
       "<td>\n",
       "<p>Changes the working directory.</p>\n",
       "</td></tr>\n",
       "<tr><td><code id=\"wbt_wetness_index_:_verbose_mode\">verbose_mode</code></td>\n",
       "<td>\n",
       "<p>Sets verbose mode. If verbose mode is False, tools will not print output messages.</p>\n",
       "</td></tr>\n",
       "</table>\n",
       "\n",
       "\n",
       "<h3>Value</h3>\n",
       "\n",
       "<p>Returns the tool text outputs.\n",
       "</p>\n",
       "\n",
       "<hr /><div style=\"text-align: center;\">[Package <em>whitebox</em> version 1.4.0 ]</div>\n",
       "</div>"
      ],
      "text/latex": [
       "\\inputencoding{utf8}\n",
       "\\HeaderA{wbt\\_wetness\\_index}{Wetness index}{wbt.Rul.wetness.Rul.index}\n",
       "%\n",
       "\\begin{Description}\n",
       "Calculates the topographic wetness index, Ln(A / tan(slope)).\n",
       "\\end{Description}\n",
       "%\n",
       "\\begin{Usage}\n",
       "\\begin{verbatim}\n",
       "wbt_wetness_index(sca, slope, output, wd = NULL, verbose_mode = FALSE)\n",
       "\\end{verbatim}\n",
       "\\end{Usage}\n",
       "%\n",
       "\\begin{Arguments}\n",
       "\\begin{ldescription}\n",
       "\\item[\\code{sca}] Input raster specific contributing area (SCA) file.\n",
       "\n",
       "\\item[\\code{slope}] Input raster slope file (in degrees).\n",
       "\n",
       "\\item[\\code{output}] Output raster file.\n",
       "\n",
       "\\item[\\code{wd}] Changes the working directory.\n",
       "\n",
       "\\item[\\code{verbose\\_mode}] Sets verbose mode. If verbose mode is False, tools will not print output messages.\n",
       "\\end{ldescription}\n",
       "\\end{Arguments}\n",
       "%\n",
       "\\begin{Value}\n",
       "Returns the tool text outputs.\n",
       "\\end{Value}"
      ],
      "text/plain": [
       "wbt_wetness_index           package:whitebox           R Documentation\n",
       "\n",
       "_\bW_\be_\bt_\bn_\be_\bs_\bs _\bi_\bn_\bd_\be_\bx\n",
       "\n",
       "_\bD_\be_\bs_\bc_\br_\bi_\bp_\bt_\bi_\bo_\bn:\n",
       "\n",
       "     Calculates the topographic wetness index, Ln(A / tan(slope)).\n",
       "\n",
       "_\bU_\bs_\ba_\bg_\be:\n",
       "\n",
       "     wbt_wetness_index(sca, slope, output, wd = NULL, verbose_mode = FALSE)\n",
       "     \n",
       "_\bA_\br_\bg_\bu_\bm_\be_\bn_\bt_\bs:\n",
       "\n",
       "     sca: Input raster specific contributing area (SCA) file.\n",
       "\n",
       "   slope: Input raster slope file (in degrees).\n",
       "\n",
       "  output: Output raster file.\n",
       "\n",
       "      wd: Changes the working directory.\n",
       "\n",
       "verbose_mode: Sets verbose mode. If verbose mode is False, tools will\n",
       "          not print output messages.\n",
       "\n",
       "_\bV_\ba_\bl_\bu_\be:\n",
       "\n",
       "     Returns the tool text outputs.\n"
      ]
     },
     "metadata": {},
     "output_type": "display_data"
    }
   ],
   "source": [
    "?wbt_wetness_index"
   ]
  },
  {
   "cell_type": "code",
   "execution_count": null,
   "id": "6bfdebbc-5c5d-460c-8ce0-e37d75aac0d8",
   "metadata": {},
   "outputs": [],
   "source": []
  }
 ],
 "metadata": {
  "kernelspec": {
   "display_name": "R",
   "language": "R",
   "name": "ir"
  },
  "language_info": {
   "codemirror_mode": "r",
   "file_extension": ".r",
   "mimetype": "text/x-r-source",
   "name": "R",
   "pygments_lexer": "r",
   "version": "4.3.2"
  }
 },
 "nbformat": 4,
 "nbformat_minor": 5
}
