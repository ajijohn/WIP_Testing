{
 "cells": [
  {
   "cell_type": "code",
   "execution_count": 1,
   "id": "a4800999-7308-4095-88f5-49d8315a74a9",
   "metadata": {},
   "outputs": [
    {
     "name": "stderr",
     "output_type": "stream",
     "text": [
      "terra 1.7.71\n",
      "\n",
      "randomForest 4.7-1.1\n",
      "\n",
      "Type rfNews() to see new features/changes/bug fixes.\n",
      "\n"
     ]
    }
   ],
   "source": [
    "library(terra)\n",
    "library(randomForest)"
   ]
  },
  {
   "cell_type": "code",
   "execution_count": 13,
   "id": "c596251d-ba97-439e-a72f-c79fcc7a120c",
   "metadata": {},
   "outputs": [
    {
     "data": {
      "text/plain": [
       "class       : SpatRaster \n",
       "dimensions  : 24499, 30003, 3  (nrow, ncol, nlyr)\n",
       "resolution  : 23.64304, 23.64304  (x, y)\n",
       "extent      : 342358, 1051720, 4982935, 5562166  (xmin, xmax, ymin, ymax)\n",
       "coord. ref. : NAD83(HARN) / UTM zone 10N (EPSG:3740) \n",
       "source      : wa_curv3.tif \n",
       "names       :      profc,      planc,      meanc \n",
       "min values  : -0.1481863, -0.1483307, -0.1104627 \n",
       "max values  :  0.1682672,  0.1997371,  0.1196787 "
      ]
     },
     "metadata": {},
     "output_type": "display_data"
    }
   ],
   "source": [
    "rast(\"data/stack_data/wa_curv3.tif\")"
   ]
  },
  {
   "cell_type": "code",
   "execution_count": 14,
   "id": "f7c8b30d-4af3-44c7-9450-c50f0d2c8daa",
   "metadata": {},
   "outputs": [
    {
     "data": {
      "text/plain": [
       "class       : SpatRaster \n",
       "dimensions  : 16959, 25378, 1  (nrow, ncol, nlyr)\n",
       "resolution  : 23.64304, 23.64304  (x, y)\n",
       "extent      : 371131.6, 971144.8, 5043580, 5444542  (xmin, xmax, ymin, ymax)\n",
       "coord. ref. : NAD83(HARN) / UTM zone 10N (EPSG:3740) \n",
       "source      : wa_dev27msk.tif \n",
       "name        :  wa_dev27 \n",
       "min value   : -13.49994 \n",
       "max value   :  10.51795 "
      ]
     },
     "metadata": {},
     "output_type": "display_data"
    }
   ],
   "source": [
    "rast(\"data/stack_data/wa_dev27msk.tif\")"
   ]
  },
  {
   "cell_type": "code",
   "execution_count": 15,
   "id": "c7d1decd-7353-4e35-b2e9-6471800f5418",
   "metadata": {},
   "outputs": [
    {
     "data": {
      "text/plain": [
       "class       : SpatRaster \n",
       "dimensions  : 24499, 30003, 4  (nrow, ncol, nlyr)\n",
       "resolution  : 23.64304, 23.64304  (x, y)\n",
       "extent      : 342358, 1051720, 4982935, 5562166  (xmin, xmax, ymin, ymax)\n",
       "coord. ref. : NAD83(HARN) / UTM zone 10N (EPSG:3740) \n",
       "source      : wa_slope27.tif \n",
       "names       :    slope,       aspect, eastness, northness \n",
       "min values  :  0.00000, 2.504478e-06,       -1,        -1 \n",
       "max values  : 55.21534, 3.600000e+02,        1,         1 "
      ]
     },
     "metadata": {},
     "output_type": "display_data"
    }
   ],
   "source": [
    "rast(\"data/stack_data/wa_slope27.tif\")"
   ]
  },
  {
   "cell_type": "code",
   "execution_count": 16,
   "id": "3daee7fa-88a7-493f-876b-e09eaf689ac3",
   "metadata": {},
   "outputs": [],
   "source": [
    "list_files <- list.files(\"data/stack_data/\", pattern = \"curv\", full.names = T)\n",
    "stack_data <- rast(list_files)"
   ]
  },
  {
   "cell_type": "code",
   "execution_count": 17,
   "id": "060e0883-50ba-4a01-90ee-32850e6af0f9",
   "metadata": {},
   "outputs": [
    {
     "data": {
      "text/plain": [
       "class       : SpatRaster \n",
       "dimensions  : 24499, 30003, 3  (nrow, ncol, nlyr)\n",
       "resolution  : 23.64304, 23.64304  (x, y)\n",
       "extent      : 342358, 1051720, 4982935, 5562166  (xmin, xmax, ymin, ymax)\n",
       "coord. ref. : NAD83(HARN) / UTM zone 10N (EPSG:3740) \n",
       "source      : wa_curv3.tif \n",
       "names       :      profc,      planc,      meanc \n",
       "min values  : -0.1481863, -0.1483307, -0.1104627 \n",
       "max values  :  0.1682672,  0.1997371,  0.1196787 "
      ]
     },
     "metadata": {},
     "output_type": "display_data"
    }
   ],
   "source": []
  },
  {
   "cell_type": "code",
   "execution_count": null,
   "id": "5b32c0be-322a-4454-8e3c-4ef82e484d75",
   "metadata": {},
   "outputs": [],
   "source": []
  }
 ],
 "metadata": {
  "kernelspec": {
   "display_name": "R",
   "language": "R",
   "name": "ir"
  },
  "language_info": {
   "codemirror_mode": "r",
   "file_extension": ".r",
   "mimetype": "text/x-r-source",
   "name": "R",
   "pygments_lexer": "r",
   "version": "4.3.2"
  }
 },
 "nbformat": 4,
 "nbformat_minor": 5
}
