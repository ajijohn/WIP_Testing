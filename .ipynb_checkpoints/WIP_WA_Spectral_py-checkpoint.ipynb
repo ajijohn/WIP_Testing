{
 "cells": [
  {
   "cell_type": "code",
   "execution_count": 1,
   "id": "782253e3-852c-4d6f-9984-8238cecf741b",
   "metadata": {
    "scrolled": true
   },
   "outputs": [
    {
     "name": "stderr",
     "output_type": "stream",
     "text": [
      "terra 1.7.71\n",
      "\n",
      "Linking to GEOS 3.10.2, GDAL 3.4.3, PROJ 8.2.0; sf_use_s2() is TRUE\n",
      "\n",
      "\n",
      "Attaching package: ‘tidyterra’\n",
      "\n",
      "\n",
      "The following object is masked from ‘package:stats’:\n",
      "\n",
      "    filter\n",
      "\n",
      "\n",
      "Warning message in rgl.init(initValue, onlyNULL):\n",
      "“RGL: unable to open X11 display”\n",
      "Warning message:\n",
      "“'rgl.init' failed, running with 'rgl.useNULL = TRUE'.”\n",
      "randomForest 4.7-1.1\n",
      "\n",
      "Type rfNews() to see new features/changes/bug fixes.\n",
      "\n",
      "Loading required package: ggplot2\n",
      "\n",
      "\n",
      "Attaching package: ‘ggplot2’\n",
      "\n",
      "\n",
      "The following object is masked from ‘package:randomForest’:\n",
      "\n",
      "    margin\n",
      "\n",
      "\n",
      "Loading required package: lattice\n",
      "\n",
      "\n",
      "Attaching package: ‘vip’\n",
      "\n",
      "\n",
      "The following object is masked from ‘package:utils’:\n",
      "\n",
      "    vi\n",
      "\n",
      "\n"
     ]
    }
   ],
   "source": [
    "library(terra)\n",
    "library(sf)\n",
    "library(tidyterra)\n",
    "library(MultiscaleDTM)\n",
    "library(randomForest)\n",
    "library(caret)\n",
    "library(vip)\n",
    "library(rstac)\n",
    "\n",
    "\n",
    "s_obj <- stac(\"https://planetarycomputer.microsoft.com/api/stac/v1\")"
   ]
  },
  {
   "cell_type": "code",
   "execution_count": 38,
   "id": "6a5550f1-d824-415b-89c6-532fdb4b9bf6",
   "metadata": {},
   "outputs": [
    {
     "name": "stdout",
     "output_type": "stream",
     "text": [
      "\u001b[1m###STACItemCollection\u001b[22m\n",
      "- \u001b[1mfeatures\u001b[22m (10 item(s)):\n",
      "  - S2A_MSIL2A_20180828T132231_R038_T23LNF_20201027T054353\n",
      "  - S2A_MSIL2A_20180828T132231_R038_T23LNE_20201027T054349\n",
      "  - S2A_MSIL2A_20180828T132231_R038_T23LND_20201027T054349\n",
      "  - S2A_MSIL2A_20180828T132231_R038_T23LMF_20201027T054359\n",
      "  - S2A_MSIL2A_20180828T132231_R038_T23LME_20201027T054358\n",
      "  - S2A_MSIL2A_20180828T132231_R038_T23LMD_20201027T054354\n",
      "  - S2A_MSIL2A_20180828T132231_R038_T23LMC_20201027T054355\n",
      "  - S2A_MSIL2A_20180828T132231_R038_T23LLF_20201027T054355\n",
      "  - S2A_MSIL2A_20180828T132231_R038_T23LLE_20201027T054356\n",
      "  - S2A_MSIL2A_20180828T132231_R038_T23LLD_20201027T054357\n",
      "- \u001b[1massets:\u001b[22m \n",
      "AOT, B01, B02, B03, B04, B05, B06, B07, B08, B09, B11, B12, B8A, datastrip-metadata, granule-metadata, inspire-metadata, preview, product-metadata, rendered_preview, safe-manifest, SCL, tilejson, visual, WVP\n",
      "- \u001b[1mitem's fields:\u001b[22m \n",
      "assets, bbox, collection, geometry, id, links, properties, stac_extensions, stac_version, type\n"
     ]
    }
   ],
   "source": [
    "it_obj <- s_obj %>% \n",
    "    stac_search(collections = \"sentinel-2-l2a\",\n",
    "                datetime = \"2018-07-01T00:00:00Z/2018-08-30T00:00:00Z\",\n",
    "                limit = 10,\n",
    "                bbox = c(-47.02148, -17.35063, -42.53906, -12.98314)) %>%\n",
    "    get_request()\n",
    "\n",
    "print(it_obj)"
   ]
  },
  {
   "cell_type": "code",
   "execution_count": 45,
   "id": "5ebbec5d-5386-4a37-a1d9-95d2b383c8e4",
   "metadata": {},
   "outputs": [
    {
     "name": "stderr",
     "output_type": "stream",
     "text": [
      "Warning message in new_CppObject_xp(fields$.module, fields$.pointer, ...):\n",
      "“GDAL Error 1: HTTP error code : 404”\n"
     ]
    },
    {
     "ename": "ERROR",
     "evalue": "Error: [rast] file does not exist: https://sentinel2l2a01.blob.core.windows.net/sentinel2-l2/23/L/NF/2018/08/28/S2A_MSIL2A_20180828T132231_N0212_R038_T23LNF_20201027T054353.SAFE/GRANULE/L2A_T23LNF_A016623_20180828T132231/IMG_DATA/R10m/T23LNF_20180828T132231_B04_10m.tif\n",
     "output_type": "error",
     "traceback": [
      "Error: [rast] file does not exist: https://sentinel2l2a01.blob.core.windows.net/sentinel2-l2/23/L/NF/2018/08/28/S2A_MSIL2A_20180828T132231_N0212_R038_T23LNF_20201027T054353.SAFE/GRANULE/L2A_T23LNF_A016623_20180828T132231/IMG_DATA/R10m/T23LNF_20180828T132231_B04_10m.tif\nTraceback:\n",
      "1. rast(it_obj$features[[1]]$assets$B04$href)",
      "2. rast(it_obj$features[[1]]$assets$B04$href)",
      "3. .local(x, ...)",
      "4. messages(r, \"rast\")",
      "5. error(f, x@cpp$getError())",
      "6. stop(\"[\", f, \"] \", emsg, ..., call. = FALSE)"
     ]
    }
   ],
   "source": [
    "rast(it_obj$features[[1]]$assets$B04$href)"
   ]
  },
  {
   "cell_type": "code",
   "execution_count": 40,
   "id": "6c74a6d4-a167-4586-aaf7-936ec9b7c087",
   "metadata": {},
   "outputs": [
    {
     "data": {
      "text/html": [
       "No documentation for ‘stac_image_collection’ in specified packages and libraries:\n",
       "you could try ‘??stac_image_collection’"
      ],
      "text/latex": [
       "No documentation for ‘stac_image_collection’ in specified packages and libraries:\n",
       "you could try ‘??stac_image_collection’"
      ],
      "text/plain": [
       "No documentation for ‘stac_image_collection’ in specified packages and libraries:\n",
       "you could try ‘??stac_image_collection’"
      ]
     },
     "metadata": {},
     "output_type": "display_data"
    }
   ],
   "source": [
    "?stac_image_collection\n"
   ]
  },
  {
   "cell_type": "code",
   "execution_count": null,
   "id": "5cc4d0cf-7f56-45cc-8623-aa8360af53bd",
   "metadata": {},
   "outputs": [],
   "source": []
  }
 ],
 "metadata": {
  "kernelspec": {
   "display_name": "R",
   "language": "R",
   "name": "ir"
  },
  "language_info": {
   "codemirror_mode": "r",
   "file_extension": ".r",
   "mimetype": "text/x-r-source",
   "name": "R",
   "pygments_lexer": "r",
   "version": "4.3.2"
  }
 },
 "nbformat": 4,
 "nbformat_minor": 5
}
