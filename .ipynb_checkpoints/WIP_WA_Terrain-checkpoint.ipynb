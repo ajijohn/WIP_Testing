{
 "cells": [
  {
   "cell_type": "code",
   "execution_count": 1,
   "id": "c91697e3-dad3-4bcf-b5a4-c35f4c365c51",
   "metadata": {
    "scrolled": true
   },
   "outputs": [
    {
     "name": "stderr",
     "output_type": "stream",
     "text": [
      "terra 1.7.71\n",
      "\n",
      "Linking to GEOS 3.10.2, GDAL 3.4.3, PROJ 8.2.0; sf_use_s2() is TRUE\n",
      "\n",
      "\n",
      "Attaching package: ‘tidyterra’\n",
      "\n",
      "\n",
      "The following object is masked from ‘package:stats’:\n",
      "\n",
      "    filter\n",
      "\n",
      "\n",
      "Warning message in rgl.init(initValue, onlyNULL):\n",
      "“RGL: unable to open X11 display”\n",
      "Warning message:\n",
      "“'rgl.init' failed, running with 'rgl.useNULL = TRUE'.”\n",
      "randomForest 4.7-1.1\n",
      "\n",
      "Type rfNews() to see new features/changes/bug fixes.\n",
      "\n",
      "Loading required package: ggplot2\n",
      "\n",
      "\n",
      "Attaching package: ‘ggplot2’\n",
      "\n",
      "\n",
      "The following object is masked from ‘package:randomForest’:\n",
      "\n",
      "    margin\n",
      "\n",
      "\n",
      "Loading required package: lattice\n",
      "\n",
      "\n",
      "Attaching package: ‘vip’\n",
      "\n",
      "\n",
      "The following object is masked from ‘package:utils’:\n",
      "\n",
      "    vi\n",
      "\n",
      "\n",
      "\n",
      "Attaching package: ‘tmap’\n",
      "\n",
      "\n",
      "The following object is masked from ‘package:datasets’:\n",
      "\n",
      "    rivers\n",
      "\n",
      "\n"
     ]
    }
   ],
   "source": [
    "\n",
    "library(terra)\n",
    "library(sf)\n",
    "library(tidyterra)\n",
    "library(MultiscaleDTM)\n",
    "library(randomForest)\n",
    "library(caret)\n",
    "library(vip)\n",
    "library(rstac)\n",
    "library(whitebox)\n",
    "library(tmap)\n",
    "\n",
    "s_obj <- stac(\"https://planetarycomputer.microsoft.com/api/stac/v1\")"
   ]
  },
  {
   "cell_type": "code",
   "execution_count": 2,
   "id": "d9b73741-b559-4d86-83d0-af61c2767762",
   "metadata": {},
   "outputs": [],
   "source": [
    "wa_dem_prj <- rast(\"data/wa_dem_diss_prj3740.tif\")\n",
    "wa_shp <- vect(\"data/wa_shp_diss.gpkg\")"
   ]
  },
  {
   "cell_type": "code",
   "execution_count": 3,
   "id": "5057046e-eaf9-4d77-80be-d01172a1386b",
   "metadata": {},
   "outputs": [
    {
     "data": {
      "text/plain": [
       "class       : SpatRaster \n",
       "dimensions  : 16959, 25378, 1  (nrow, ncol, nlyr)\n",
       "resolution  : 23.64304, 23.64304  (x, y)\n",
       "extent      : 371131.6, 971144.8, 5043580, 5444542  (xmin, xmax, ymin, ymax)\n",
       "coord. ref. : NAD83(HARN) / UTM zone 10N (EPSG:3740) \n",
       "source      : wa_dem_diss_prj3740.tif \n",
       "name        : NASADEM_HGT_n49w125 \n",
       "min value   :           -35.65501 \n",
       "max value   :          4373.03906 "
      ]
     },
     "metadata": {},
     "output_type": "display_data"
    }
   ],
   "source": [
    "wa_dem_prj"
   ]
  },
  {
   "cell_type": "code",
   "execution_count": 4,
   "id": "e2313823-a426-4f97-a10f-4adff1fd275b",
   "metadata": {},
   "outputs": [
    {
     "data": {
      "text/plain": [
       " class       : SpatVector \n",
       " geometry    : polygons \n",
       " dimensions  : 1, 0  (geometries, attributes)\n",
       " extent      : 371124.2, 971138, 5043576, 5444546  (xmin, xmax, ymin, ymax)\n",
       " source      : wa_shp_diss.gpkg\n",
       " coord. ref. : NAD83(HARN) / UTM zone 10N (EPSG:3740) "
      ]
     },
     "metadata": {},
     "output_type": "display_data"
    }
   ],
   "source": [
    "wa_shp"
   ]
  },
  {
   "cell_type": "code",
   "execution_count": 14,
   "id": "683eb200-d085-48ca-ab19-ae542433b16b",
   "metadata": {},
   "outputs": [
    {
     "data": {
      "text/html": [
       "'slope - Elapsed Time (excluding I/O): 7.213s'"
      ],
      "text/latex": [
       "'slope - Elapsed Time (excluding I/O): 7.213s'"
      ],
      "text/markdown": [
       "'slope - Elapsed Time (excluding I/O): 7.213s'"
      ],
      "text/plain": [
       "[1] \"slope - Elapsed Time (excluding I/O): 7.213s\""
      ]
     },
     "metadata": {},
     "output_type": "display_data"
    }
   ],
   "source": [
    "# wbt_slope(\n",
    "#     dem = \"data/stack_data/wa_dem_diss_prj3740.tif\",\n",
    "#     output = \"data/stack_data/wa_slope.tif\"\n",
    "# )"
   ]
  },
  {
   "cell_type": "code",
   "execution_count": 21,
   "id": "87467576-4ea0-4977-82e3-2d0fbd63d85d",
   "metadata": {},
   "outputs": [
    {
     "name": "stderr",
     "output_type": "stream",
     "text": [
      "Warning message in system(args2, intern = TRUE):\n",
      "“running command '/home/ajs0428/R/x86_64-pc-linux-gnu-library/4.3/whitebox/WBT/whitebox_tools --run=multiscale_roughness  --dem=data/stack_data/wa_dem_diss_prj3740.tif --out_mag=data/stack_data/wa_roughmag.tif --out_scale=data/stack_data/wa_roughscale.tif --max_scale=20 --min_scale=1 --step=5 -v' had status 137”\n"
     ]
    },
    {
     "data": {
      "text/html": [
       "'multiscale_roughness - Reading data...'"
      ],
      "text/latex": [
       "'multiscale\\_roughness - Reading data...'"
      ],
      "text/markdown": [
       "'multiscale_roughness - Reading data...'"
      ],
      "text/plain": [
       "[1] \"multiscale_roughness - Reading data...\""
      ]
     },
     "metadata": {},
     "output_type": "display_data"
    }
   ],
   "source": [
    "wbt_multiscale_roughness(\n",
    "    dem = \"data/stack_data/wa_dem_diss_prj3740.tif\",\n",
    "    out_mag = \"data/stack_data/wa_roughmag.tif\",\n",
    "    out_scale = \"data/stack_data/wa_roughscale.tif\",\n",
    "    min_scale = 1,\n",
    "    max_scale = 20,\n",
    "    step = 5\n",
    ")"
   ]
  },
  {
   "cell_type": "code",
   "execution_count": 16,
   "id": "eb4c8f43-9f4f-4881-94f0-ac227e96ffc8",
   "metadata": {},
   "outputs": [
    {
     "data": {
      "text/html": [
       "'plan_curvature - Elapsed Time (excluding I/O): 6.561s'"
      ],
      "text/latex": [
       "'plan\\_curvature - Elapsed Time (excluding I/O): 6.561s'"
      ],
      "text/markdown": [
       "'plan_curvature - Elapsed Time (excluding I/O): 6.561s'"
      ],
      "text/plain": [
       "[1] \"plan_curvature - Elapsed Time (excluding I/O): 6.561s\""
      ]
     },
     "metadata": {},
     "output_type": "display_data"
    }
   ],
   "source": [
    "wbt_plan_curvature(\n",
    "    dem = \"data/stack_data/wa_dem_diss_prj3740.tif\",\n",
    "    output = \"data/stack_data/wa_planc.tif\"\n",
    ")"
   ]
  },
  {
   "cell_type": "code",
   "execution_count": 17,
   "id": "6d77d341-91e5-4870-b999-c0c445c2c90d",
   "metadata": {},
   "outputs": [
    {
     "data": {
      "text/html": [
       "'profile_curvature - Elapsed Time (excluding I/O): 7.51s'"
      ],
      "text/latex": [
       "'profile\\_curvature - Elapsed Time (excluding I/O): 7.51s'"
      ],
      "text/markdown": [
       "'profile_curvature - Elapsed Time (excluding I/O): 7.51s'"
      ],
      "text/plain": [
       "[1] \"profile_curvature - Elapsed Time (excluding I/O): 7.51s\""
      ]
     },
     "metadata": {},
     "output_type": "display_data"
    }
   ],
   "source": [
    "wbt_profile_curvature(\n",
    "    dem = \"data/stack_data/wa_dem_diss_prj3740.tif\",\n",
    "    output = \"data/stack_data/wa_profc.tif\"\n",
    ")"
   ]
  },
  {
   "cell_type": "code",
   "execution_count": 18,
   "id": "b627093d-946e-431a-8ab8-24afba75e49b",
   "metadata": {},
   "outputs": [
    {
     "data": {
      "text/html": [
       "'d_inf_pointer - **********************************************************************************'"
      ],
      "text/latex": [
       "'d\\_inf\\_pointer - **********************************************************************************'"
      ],
      "text/markdown": [
       "'d_inf_pointer - **********************************************************************************'"
      ],
      "text/plain": [
       "[1] \"d_inf_pointer - **********************************************************************************\""
      ]
     },
     "metadata": {},
     "output_type": "display_data"
    }
   ],
   "source": [
    "wbt_d_inf_pointer(\n",
    "    dem = \"data/stack_data/wa_dem_diss_prj3740.tif\",\n",
    "    output = \"data/stack_data/wa_dinfpoint.tif\"\n",
    ")"
   ]
  },
  {
   "cell_type": "code",
   "execution_count": 19,
   "id": "7f0e71a7-5594-4327-be27-0af371420103",
   "metadata": {},
   "outputs": [
    {
     "data": {
      "text/html": [
       "'d_inf_flow_accumulation - **********************************************************************************'"
      ],
      "text/latex": [
       "'d\\_inf\\_flow\\_accumulation - **********************************************************************************'"
      ],
      "text/markdown": [
       "'d_inf_flow_accumulation - **********************************************************************************'"
      ],
      "text/plain": [
       "[1] \"d_inf_flow_accumulation - **********************************************************************************\""
      ]
     },
     "metadata": {},
     "output_type": "display_data"
    }
   ],
   "source": [
    "wbt_d_inf_flow_accumulation(\n",
    "    i = \"data/stack_data/wa_dinfpoint.tif\",\n",
    "    output = \"data/stack_data/wa_dinfsca.tif\"\n",
    ")"
   ]
  },
  {
   "cell_type": "code",
   "execution_count": null,
   "id": "9f7d4b63-6b91-46a4-94e8-f10eb47da939",
   "metadata": {},
   "outputs": [],
   "source": []
  },
  {
   "cell_type": "code",
   "execution_count": null,
   "id": "9b9a0fb2-ebc8-4afc-af79-952c808e8f0a",
   "metadata": {},
   "outputs": [],
   "source": [
    "# wa_curv3 <- MultiscaleDTM::Qfit(wa_dem_prj, w = c(3,3), metrics = c(\"profc\", \"planc\", \"meanc\"),\n",
    "#                                filename = \"data/wa_curv3.tif\")"
   ]
  },
  {
   "cell_type": "code",
   "execution_count": null,
   "id": "c501f752-a1fe-4c91-b660-9cc2e2f50fcc",
   "metadata": {},
   "outputs": [],
   "source": [
    "# system.time(MultiscaleDTM::Qfit(wa_dem_prj, w = c(27,27), metrics = c(\"profc\", \"planc\", \"meanc\"),\n",
    "#                                filename = \"data/wa_curv27.tif\"))"
   ]
  },
  {
   "cell_type": "code",
   "execution_count": null,
   "id": "ed174baa-f0dd-49e0-a509-619807fd09d7",
   "metadata": {},
   "outputs": [],
   "source": [
    "# wa_curv81 <- MultiscaleDTM::Qfit(wa_dem_prj, w = c(81,81), metrics = c(\"profc\", \"planc\", \"meanc\"),\n",
    "#                                filename = \"data/wa_curv27.tif\")"
   ]
  },
  {
   "cell_type": "code",
   "execution_count": null,
   "id": "28e08d44-2e30-4f9f-aeb9-7e711a36de40",
   "metadata": {},
   "outputs": [],
   "source": []
  }
 ],
 "metadata": {
  "kernelspec": {
   "display_name": "R",
   "language": "R",
   "name": "ir"
  },
  "language_info": {
   "codemirror_mode": "r",
   "file_extension": ".r",
   "mimetype": "text/x-r-source",
   "name": "R",
   "pygments_lexer": "r",
   "version": "4.3.2"
  }
 },
 "nbformat": 4,
 "nbformat_minor": 5
}
