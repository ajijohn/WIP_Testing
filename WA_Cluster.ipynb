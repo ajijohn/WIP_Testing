{
 "cells": [
  {
   "cell_type": "markdown",
   "id": "543e0cb0-928c-4781-a257-902b6bedc12a",
   "metadata": {},
   "source": [
    "# Iteratively subsetting spatial data by HUC across WA state"
   ]
  },
  {
   "cell_type": "code",
   "execution_count": 15,
   "id": "d1933b7c-6e56-4860-9e3d-3fc4454b7940",
   "metadata": {
    "scrolled": true
   },
   "outputs": [],
   "source": [
    "library(terra)\n",
    "library(tidyterra)\n",
    "library(dplyr)\n",
    "library(randomForest)\n",
    "library(stringr)"
   ]
  },
  {
   "cell_type": "markdown",
   "id": "070786c0-381e-4e55-af20-fbcd98276c75",
   "metadata": {},
   "source": [
    "Bring in all data layers\n",
    "\n",
    "- WA state polygon\n",
    "- climate data\n",
    "- terrain data\n",
    "- spectral data"
   ]
  },
  {
   "cell_type": "code",
   "execution_count": 4,
   "id": "eda4b620-e58e-400f-b0f3-4de124685c6a",
   "metadata": {},
   "outputs": [],
   "source": [
    "wa_shp <- vect(\"data/wa_shp_diss.gpkg\")\n",
    "# wa_ecoreg <- vect(\"data/wa_l3_eco/wa_eco_l3.shp\") |> project(\"EPSG:3740\") |> tidyterra::select(US_L3NAME)\n",
    "# wa_ecoreg"
   ]
  },
  {
   "cell_type": "code",
   "execution_count": 5,
   "id": "26850be5-6820-446c-bd1b-3249b90c5699",
   "metadata": {},
   "outputs": [],
   "source": [
    "ppt <- rast(\"data/stack_data/PRISM/wa_ppt.tif\")\n",
    "tmean <- rast(\"data/stack_data/PRISM/wa_tmean.tif\")\n",
    "vpd <- rast(\"data/stack_data/PRISM/wa_vpd.tif\")\n",
    "clim_stack <- c(ppt, tmean, vpd)"
   ]
  },
  {
   "cell_type": "code",
   "execution_count": 6,
   "id": "ed32d092-98bb-416f-9ca7-f3da89dffc22",
   "metadata": {
    "scrolled": true
   },
   "outputs": [
    {
     "data": {
      "text/html": [
       "<style>\n",
       ".list-inline {list-style: none; margin:0; padding: 0}\n",
       ".list-inline>li {display: inline-block}\n",
       ".list-inline>li:not(:last-child)::after {content: \"\\00b7\"; padding: 0 .5ex}\n",
       "</style>\n",
       "<ol class=list-inline><li>'data/stack_data/wa_dem_diss_prj3740.tif'</li><li>'data/stack_data/wa_dev27msk.tif'</li><li>'data/stack_data/wa_dev3msk.tif'</li><li>'data/stack_data/wa_dev81msk.tif'</li><li>'data/stack_data/wa_dinfpoint.tif'</li><li>'data/stack_data/wa_dinfsca.tif'</li><li>'data/stack_data/wa_planc.tif'</li><li>'data/stack_data/wa_profc.tif'</li><li>'data/stack_data/wa_rugged.tif'</li><li>'data/stack_data/wa_slope_nozero.tif'</li><li>'data/stack_data/wa_twi_nozeroslp.tif'</li></ol>\n"
      ],
      "text/latex": [
       "\\begin{enumerate*}\n",
       "\\item 'data/stack\\_data/wa\\_dem\\_diss\\_prj3740.tif'\n",
       "\\item 'data/stack\\_data/wa\\_dev27msk.tif'\n",
       "\\item 'data/stack\\_data/wa\\_dev3msk.tif'\n",
       "\\item 'data/stack\\_data/wa\\_dev81msk.tif'\n",
       "\\item 'data/stack\\_data/wa\\_dinfpoint.tif'\n",
       "\\item 'data/stack\\_data/wa\\_dinfsca.tif'\n",
       "\\item 'data/stack\\_data/wa\\_planc.tif'\n",
       "\\item 'data/stack\\_data/wa\\_profc.tif'\n",
       "\\item 'data/stack\\_data/wa\\_rugged.tif'\n",
       "\\item 'data/stack\\_data/wa\\_slope\\_nozero.tif'\n",
       "\\item 'data/stack\\_data/wa\\_twi\\_nozeroslp.tif'\n",
       "\\end{enumerate*}\n"
      ],
      "text/markdown": [
       "1. 'data/stack_data/wa_dem_diss_prj3740.tif'\n",
       "2. 'data/stack_data/wa_dev27msk.tif'\n",
       "3. 'data/stack_data/wa_dev3msk.tif'\n",
       "4. 'data/stack_data/wa_dev81msk.tif'\n",
       "5. 'data/stack_data/wa_dinfpoint.tif'\n",
       "6. 'data/stack_data/wa_dinfsca.tif'\n",
       "7. 'data/stack_data/wa_planc.tif'\n",
       "8. 'data/stack_data/wa_profc.tif'\n",
       "9. 'data/stack_data/wa_rugged.tif'\n",
       "10. 'data/stack_data/wa_slope_nozero.tif'\n",
       "11. 'data/stack_data/wa_twi_nozeroslp.tif'\n",
       "\n",
       "\n"
      ],
      "text/plain": [
       " [1] \"data/stack_data/wa_dem_diss_prj3740.tif\"\n",
       " [2] \"data/stack_data/wa_dev27msk.tif\"        \n",
       " [3] \"data/stack_data/wa_dev3msk.tif\"         \n",
       " [4] \"data/stack_data/wa_dev81msk.tif\"        \n",
       " [5] \"data/stack_data/wa_dinfpoint.tif\"       \n",
       " [6] \"data/stack_data/wa_dinfsca.tif\"         \n",
       " [7] \"data/stack_data/wa_planc.tif\"           \n",
       " [8] \"data/stack_data/wa_profc.tif\"           \n",
       " [9] \"data/stack_data/wa_rugged.tif\"          \n",
       "[10] \"data/stack_data/wa_slope_nozero.tif\"    \n",
       "[11] \"data/stack_data/wa_twi_nozeroslp.tif\"   "
      ]
     },
     "metadata": {},
     "output_type": "display_data"
    },
    {
     "data": {
      "text/plain": [
       "class       : SpatRaster \n",
       "dimensions  : 16959, 25378, 10  (nrow, ncol, nlyr)\n",
       "resolution  : 23.64304, 23.64304  (x, y)\n",
       "extent      : 371131.6, 971144.8, 5043580, 5444542  (xmin, xmax, ymin, ymax)\n",
       "coord. ref. : NAD83(HARN) / UTM zone 10N (EPSG:3740) \n",
       "sources     : wa_dem_diss_prj3740.tif  \n",
       "              wa_dev27msk.tif  \n",
       "              wa_dev3msk.tif  \n",
       "              ... and 7 more source(s)\n",
       "names       : NASAD~9w125,  wa_dev27,   wa_dev3,  wa_dev81, wa_dinfsca, wa_planc, ... \n",
       "min values  :   -35.65501, -13.49994, -13.55343, -18.42358,         ? ,       ? , ... \n",
       "max values  :  4373.03906,  10.51795,  13.55344,  13.27825,         ? ,       ? , ... "
      ]
     },
     "metadata": {},
     "output_type": "display_data"
    }
   ],
   "source": [
    "list_files <- list.files(path = \"data/stack_data\", full.names = TRUE, pattern = \".tif\", include.dirs = FALSE)\n",
    "list_files\n",
    "terr_stack<- rast(list_files)\n",
    "terr_stack <- terra::subset(terr_stack, \"wa_dinfpoint\", negate = TRUE)\n",
    "terr_stack"
   ]
  },
  {
   "cell_type": "code",
   "execution_count": 7,
   "id": "188d09c6-d768-42ef-8c1f-219157ee8bb1",
   "metadata": {},
   "outputs": [
    {
     "data": {
      "text/plain": [
       "class       : SpatRaster \n",
       "dimensions  : 13366, 20286, 6  (nrow, ncol, nlyr)\n",
       "resolution  : 30, 30  (x, y)\n",
       "extent      : 362550, 971130, 5043570, 5444550  (xmin, xmax, ymin, ymax)\n",
       "coord. ref. : NAD83(HARN) / UTM zone 10N (EPSG:3740) \n",
       "source      : WA_median_mosaic.tif \n",
       "names       : tree_~cover, NDVI_median, MNDWI_median, EVI_median, SAVI_median, NDYI_median \n",
       "min values  :           0,  -0.9962001,   -0.9924589,  -4.290172,  -0.3153680,   -2.461545 \n",
       "max values  :          86,   0.9955124,    0.9966356,   7.263647,   0.8293253,    2.052344 "
      ]
     },
     "metadata": {},
     "output_type": "display_data"
    }
   ],
   "source": [
    "wa_spec<- rast(\"data/stack_data/Spectral/WA_median_mosaic.tif\")\n",
    "wa_spec <- terra::subset(wa_spec, \"uncertainty\", negate = TRUE)\n",
    "wa_spec"
   ]
  },
  {
   "cell_type": "markdown",
   "id": "df5068cb-6919-4690-860f-22354836ff67",
   "metadata": {},
   "source": [
    "Make a data path variable for writing data"
   ]
  },
  {
   "cell_type": "code",
   "execution_count": 8,
   "id": "f4ebc737-009d-4669-beeb-4d9b247d0442",
   "metadata": {},
   "outputs": [
    {
     "data": {
      "text/html": [
       "'/home/ajs0428/WIP Testing/data/huc_data/'"
      ],
      "text/latex": [
       "'/home/ajs0428/WIP Testing/data/huc\\_data/'"
      ],
      "text/markdown": [
       "'/home/ajs0428/WIP Testing/data/huc_data/'"
      ],
      "text/plain": [
       "[1] \"/home/ajs0428/WIP Testing/data/huc_data/\""
      ]
     },
     "metadata": {},
     "output_type": "display_data"
    }
   ],
   "source": [
    "datapath <- paste0(getwd(), \"/data/huc_data/\")\n",
    "datapath"
   ]
  },
  {
   "cell_type": "markdown",
   "id": "a5ffd2c5-d00a-4d5c-a703-8547748d19b5",
   "metadata": {},
   "source": [
    "Function to crop and mask the larger WA stack by any defined polygon area within WA such as ecoregions or HUCs "
   ]
  },
  {
   "cell_type": "code",
   "execution_count": 9,
   "id": "2375eae0-771d-4ba4-a5d8-7c5fc0db0f05",
   "metadata": {},
   "outputs": [],
   "source": [
    "eco_crop_func <- function(stack, ecoreg, path){\n",
    "    for(i in 1:length(ecoreg)){\n",
    "        nameClean <- str_replace_all(paste0(values(ecoreg[i])), \"[^[:alnum:]]\", \"\")\n",
    "        terra::mask(stack, ecoreg[i],\n",
    "                    filename = paste0(path,deparse(substitute(stack)), paste0(nameClean), \".tif\"), \n",
    "                   overwrite = TRUE,\n",
    "                  steps = nrow(stack[[1]])) \n",
    "    }\n",
    "}"
   ]
  },
  {
   "cell_type": "markdown",
   "id": "1b3b1534-ac71-4f3a-9df2-04fdc1945939",
   "metadata": {},
   "source": [
    "The `terra` package can change options to make raster processing more memory efficient. Most important is `memmax` is set smaller (in Gb) to process chunks of the raster faster"
   ]
  },
  {
   "cell_type": "code",
   "execution_count": 10,
   "id": "b4aa7de5-9609-4bc6-80f7-1af4c31155d0",
   "metadata": {},
   "outputs": [],
   "source": [
    "terraOptions(memmin = 0.1, memfrac = 0.7, memmax = 0.1)"
   ]
  },
  {
   "cell_type": "markdown",
   "id": "927f4d67-727b-446a-96a4-a495d808f5ff",
   "metadata": {},
   "source": [
    "If the memmax is changed above you will see the number of chunks `nr chunks` change "
   ]
  },
  {
   "cell_type": "code",
   "execution_count": 11,
   "id": "bb064937-5b1c-44bf-82e3-ef184dcf1ff8",
   "metadata": {
    "scrolled": true
   },
   "outputs": [
    {
     "name": "stdout",
     "output_type": "stream",
     "text": [
      "\n",
      "------------------------\n",
      "Memory (GB) \n",
      "------------------------\n",
      "check threshold : 0.1 (memmin)\n",
      "available       : 0.1 (memmax)\n",
      "allowed (70%)   : 0.07\n",
      "needed (n=1)    : 12.12\n",
      "------------------------\n",
      "proc in memory  : FALSE\n",
      "nr chunks       : 248\n",
      "------------------------\n"
     ]
    }
   ],
   "source": [
    "terra::mem_info(wa_spec)"
   ]
  },
  {
   "cell_type": "markdown",
   "id": "61ae6ed1-0ce9-4f6a-94cd-ee8d04eb5d7b",
   "metadata": {},
   "source": [
    "Import HUC dataset and make sure it is in same projection for WA state"
   ]
  },
  {
   "cell_type": "code",
   "execution_count": 12,
   "id": "1b27eed0-91a3-4993-b359-78db28655bd8",
   "metadata": {},
   "outputs": [
    {
     "data": {
      "text/plain": [
       " class       : SpatVector \n",
       " geometry    : polygons \n",
       " dimensions  : 71, 1  (geometries, attributes)\n",
       " extent      : 371124.2, 971138, 5043576, 5444546  (xmin, xmax, ymin, ymax)\n",
       " coord. ref. : NAD83(HARN) / UTM zone 10N (EPSG:3740) \n",
       " names       :         name\n",
       " type        :        <chr>\n",
       " values      :  Willapa Bay\n",
       "               Lower Skagit\n",
       "               Upper Skagit"
      ]
     },
     "metadata": {},
     "output_type": "display_data"
    }
   ],
   "source": [
    "hucs <- vect(\"data/Hydrography/WBD_17_HU2_GPKG.gpkg\", layer = \"WBDHU8\") |>\n",
    "    terra::project(\"EPSG:3740\") |>\n",
    "    terra::crop(wa_shp) |> \n",
    "    select(name)\n",
    "\n",
    "hucs"
   ]
  },
  {
   "cell_type": "code",
   "execution_count": 13,
   "id": "db185bc0-e380-4d93-a1db-0371191bcc8b",
   "metadata": {},
   "outputs": [
    {
     "data": {
      "image/png": "[encoded data removed]",
      "text/plain": [
       "Plot with title “”"
      ]
     },
     "metadata": {
      "image/png": {
       "height": 420,
       "width": 420
      }
     },
     "output_type": "display_data"
    }
   ],
   "source": [
    "plot(hucs, \"name\", type = \"classes\")"
   ]
  },
  {
   "cell_type": "markdown",
   "id": "3733b37c-a8ae-4ba7-bb87-67b08bc53888",
   "metadata": {},
   "source": [
    "Apply function to create subset stacks of data to be used in model building "
   ]
  },
  {
   "cell_type": "code",
   "execution_count": 16,
   "id": "4c1fee46-bd30-433b-91cc-69601cbee93a",
   "metadata": {},
   "outputs": [
    {
     "data": {
      "text/html": [
       "'Franklin D. Roosevelt Lake'"
      ],
      "text/latex": [
       "'Franklin D. Roosevelt Lake'"
      ],
      "text/markdown": [
       "'Franklin D. Roosevelt Lake'"
      ],
      "text/plain": [
       "[1] \"Franklin D. Roosevelt Lake\""
      ]
     },
     "metadata": {},
     "output_type": "display_data"
    }
   ],
   "source": [
    "paste0(values(hucs[65]))"
   ]
  },
  {
   "cell_type": "code",
   "execution_count": 17,
   "id": "3ed210fc-2014-47cc-8ddb-5f348ac1ffbd",
   "metadata": {},
   "outputs": [
    {
     "data": {
      "text/html": [
       "'FranklinDRooseveltLake'"
      ],
      "text/latex": [
       "'FranklinDRooseveltLake'"
      ],
      "text/markdown": [
       "'FranklinDRooseveltLake'"
      ],
      "text/plain": [
       "[1] \"FranklinDRooseveltLake\""
      ]
     },
     "metadata": {},
     "output_type": "display_data"
    }
   ],
   "source": [
    "str_replace_all(paste0(values(hucs[65])), \"[^[:alnum:]]\", \"\")"
   ]
  },
  {
   "cell_type": "code",
   "execution_count": 18,
   "id": "7e50b401-0a76-4fe0-9d70-566b28d48e46",
   "metadata": {
    "scrolled": true
   },
   "outputs": [
    {
     "name": "stdout",
     "output_type": "stream",
     "text": [
      "                                          \r"
     ]
    }
   ],
   "source": [
    "eco_crop_func(clim_stack, hucs, datapath)"
   ]
  },
  {
   "cell_type": "code",
   "execution_count": 19,
   "id": "cf207d07-8d1f-4fb3-9379-49193ce7da4f",
   "metadata": {
    "scrolled": true
   },
   "outputs": [
    {
     "name": "stdout",
     "output_type": "stream",
     "text": [
      "                                          \r"
     ]
    },
    {
     "name": "stderr",
     "output_type": "stream",
     "text": [
      "Warning message:\n",
      "“[mask] Estimated disk space needed without compression: 16GB. Available: 8 GB.”\n"
     ]
    },
    {
     "name": "stdout",
     "output_type": "stream",
     "text": [
      "                                          \r"
     ]
    },
    {
     "name": "stderr",
     "output_type": "stream",
     "text": [
      "Warning message:\n",
      "“[mask] Estimated disk space needed without compression: 16GB. Available: 7 GB.”\n"
     ]
    },
    {
     "name": "stdout",
     "output_type": "stream",
     "text": [
      "                                          \r"
     ]
    },
    {
     "name": "stderr",
     "output_type": "stream",
     "text": [
      "Warning message:\n",
      "“[mask] Estimated disk space needed without compression: 16GB. Available: 8 GB.”\n"
     ]
    },
    {
     "name": "stdout",
     "output_type": "stream",
     "text": [
      "                                          \r"
     ]
    },
    {
     "name": "stderr",
     "output_type": "stream",
     "text": [
      "Warning message:\n",
      "“[mask] Estimated disk space needed without compression: 16GB. Available: 8 GB.”\n"
     ]
    },
    {
     "name": "stdout",
     "output_type": "stream",
     "text": [
      "                                          \r"
     ]
    },
    {
     "name": "stderr",
     "output_type": "stream",
     "text": [
      "Warning message:\n",
      "“[mask] Estimated disk space needed without compression: 16GB. Available: 7 GB.”\n"
     ]
    },
    {
     "name": "stdout",
     "output_type": "stream",
     "text": [
      "                                          \r"
     ]
    },
    {
     "name": "stderr",
     "output_type": "stream",
     "text": [
      "Warning message:\n",
      "“[mask] Estimated disk space needed without compression: 16GB. Available: 8 GB.”\n"
     ]
    },
    {
     "name": "stdout",
     "output_type": "stream",
     "text": [
      "                                          \r"
     ]
    },
    {
     "name": "stderr",
     "output_type": "stream",
     "text": [
      "Warning message:\n",
      "“[mask] Estimated disk space needed without compression: 16GB. Available: 7 GB.”\n"
     ]
    },
    {
     "name": "stdout",
     "output_type": "stream",
     "text": [
      "                                          \r"
     ]
    },
    {
     "name": "stderr",
     "output_type": "stream",
     "text": [
      "Warning message:\n",
      "“[mask] Estimated disk space needed without compression: 16GB. Available: 8 GB.”\n"
     ]
    },
    {
     "name": "stdout",
     "output_type": "stream",
     "text": [
      "                                          \r"
     ]
    },
    {
     "name": "stderr",
     "output_type": "stream",
     "text": [
      "Warning message:\n",
      "“[mask] Estimated disk space needed without compression: 16GB. Available: 8 GB.”\n"
     ]
    },
    {
     "name": "stdout",
     "output_type": "stream",
     "text": [
      "                                          \r"
     ]
    },
    {
     "name": "stderr",
     "output_type": "stream",
     "text": [
      "Warning message:\n",
      "“[mask] Estimated disk space needed without compression: 16GB. Available: 8 GB.”\n"
     ]
    },
    {
     "name": "stdout",
     "output_type": "stream",
     "text": [
      "                                          \r"
     ]
    },
    {
     "name": "stderr",
     "output_type": "stream",
     "text": [
      "Warning message:\n",
      "“[mask] Estimated disk space needed without compression: 16GB. Available: 8 GB.”\n"
     ]
    },
    {
     "name": "stdout",
     "output_type": "stream",
     "text": [
      "                                          \r"
     ]
    },
    {
     "name": "stderr",
     "output_type": "stream",
     "text": [
      "Warning message:\n",
      "“[mask] Estimated disk space needed without compression: 16GB. Available: 8 GB.”\n"
     ]
    },
    {
     "name": "stdout",
     "output_type": "stream",
     "text": [
      "                                          \r"
     ]
    },
    {
     "name": "stderr",
     "output_type": "stream",
     "text": [
      "Warning message:\n",
      "“[mask] Estimated disk space needed without compression: 16GB. Available: 8 GB.”\n"
     ]
    },
    {
     "name": "stdout",
     "output_type": "stream",
     "text": [
      "                                          \r"
     ]
    },
    {
     "name": "stderr",
     "output_type": "stream",
     "text": [
      "Warning message:\n",
      "“[mask] Estimated disk space needed without compression: 16GB. Available: 7 GB.”\n"
     ]
    },
    {
     "name": "stdout",
     "output_type": "stream",
     "text": [
      "                                          \r"
     ]
    },
    {
     "name": "stderr",
     "output_type": "stream",
     "text": [
      "Warning message:\n",
      "“[mask] Estimated disk space needed without compression: 16GB. Available: 7 GB.”\n"
     ]
    },
    {
     "name": "stdout",
     "output_type": "stream",
     "text": [
      "                                          \r"
     ]
    },
    {
     "name": "stderr",
     "output_type": "stream",
     "text": [
      "Warning message:\n",
      "“[mask] Estimated disk space needed without compression: 16GB. Available: 7 GB.”\n"
     ]
    },
    {
     "name": "stdout",
     "output_type": "stream",
     "text": [
      "                                          \r"
     ]
    },
    {
     "name": "stderr",
     "output_type": "stream",
     "text": [
      "Warning message:\n",
      "“[mask] Estimated disk space needed without compression: 16GB. Available: 8 GB.”\n"
     ]
    },
    {
     "name": "stdout",
     "output_type": "stream",
     "text": [
      "                                          \r"
     ]
    },
    {
     "name": "stderr",
     "output_type": "stream",
     "text": [
      "Warning message:\n",
      "“[mask] Estimated disk space needed without compression: 16GB. Available: 8 GB.”\n"
     ]
    },
    {
     "name": "stdout",
     "output_type": "stream",
     "text": [
      "                                          \r"
     ]
    },
    {
     "name": "stderr",
     "output_type": "stream",
     "text": [
      "Warning message:\n",
      "“[mask] Estimated disk space needed without compression: 16GB. Available: 8 GB.”\n"
     ]
    },
    {
     "name": "stdout",
     "output_type": "stream",
     "text": [
      "                                          \r"
     ]
    },
    {
     "name": "stderr",
     "output_type": "stream",
     "text": [
      "Warning message:\n",
      "“[mask] Estimated disk space needed without compression: 16GB. Available: 8 GB.”\n"
     ]
    },
    {
     "name": "stdout",
     "output_type": "stream",
     "text": [
      "                                          \r"
     ]
    },
    {
     "name": "stderr",
     "output_type": "stream",
     "text": [
      "Warning message:\n",
      "“[mask] Estimated disk space needed without compression: 16GB. Available: 8 GB.”\n"
     ]
    },
    {
     "name": "stdout",
     "output_type": "stream",
     "text": [
      "                                          \r"
     ]
    },
    {
     "name": "stderr",
     "output_type": "stream",
     "text": [
      "Warning message:\n",
      "“[mask] Estimated disk space needed without compression: 16GB. Available: 8 GB.”\n"
     ]
    },
    {
     "name": "stdout",
     "output_type": "stream",
     "text": [
      "                                          \r"
     ]
    },
    {
     "name": "stderr",
     "output_type": "stream",
     "text": [
      "Warning message:\n",
      "“[mask] Estimated disk space needed without compression: 16GB. Available: 8 GB.”\n"
     ]
    },
    {
     "name": "stdout",
     "output_type": "stream",
     "text": [
      "                                          \r"
     ]
    },
    {
     "name": "stderr",
     "output_type": "stream",
     "text": [
      "Warning message:\n",
      "“[mask] Estimated disk space needed without compression: 16GB. Available: 8 GB.”\n"
     ]
    },
    {
     "name": "stdout",
     "output_type": "stream",
     "text": [
      "                                          \r"
     ]
    },
    {
     "name": "stderr",
     "output_type": "stream",
     "text": [
      "Warning message:\n",
      "“[mask] Estimated disk space needed without compression: 16GB. Available: 8 GB.”\n"
     ]
    },
    {
     "name": "stdout",
     "output_type": "stream",
     "text": [
      "                                          \r"
     ]
    },
    {
     "name": "stderr",
     "output_type": "stream",
     "text": [
      "Warning message:\n",
      "“[mask] Estimated disk space needed without compression: 16GB. Available: 7 GB.”\n"
     ]
    },
    {
     "name": "stdout",
     "output_type": "stream",
     "text": [
      "                                          \r"
     ]
    },
    {
     "name": "stderr",
     "output_type": "stream",
     "text": [
      "Warning message:\n",
      "“[mask] Estimated disk space needed without compression: 16GB. Available: 8 GB.”\n"
     ]
    },
    {
     "name": "stdout",
     "output_type": "stream",
     "text": [
      "                                          \r"
     ]
    },
    {
     "name": "stderr",
     "output_type": "stream",
     "text": [
      "Warning message:\n",
      "“[mask] Estimated disk space needed without compression: 16GB. Available: 8 GB.”\n"
     ]
    },
    {
     "name": "stdout",
     "output_type": "stream",
     "text": [
      "                                          \r"
     ]
    },
    {
     "name": "stderr",
     "output_type": "stream",
     "text": [
      "Warning message:\n",
      "“[mask] Estimated disk space needed without compression: 16GB. Available: 8 GB.”\n"
     ]
    },
    {
     "name": "stdout",
     "output_type": "stream",
     "text": [
      "                                          \r"
     ]
    },
    {
     "name": "stderr",
     "output_type": "stream",
     "text": [
      "Warning message:\n",
      "“[mask] Estimated disk space needed without compression: 16GB. Available: 8 GB.”\n"
     ]
    },
    {
     "name": "stdout",
     "output_type": "stream",
     "text": [
      "                                          \r"
     ]
    },
    {
     "name": "stderr",
     "output_type": "stream",
     "text": [
      "Warning message:\n",
      "“[mask] Estimated disk space needed without compression: 16GB. Available: 8 GB.”\n"
     ]
    },
    {
     "name": "stdout",
     "output_type": "stream",
     "text": [
      "                                          \r"
     ]
    },
    {
     "name": "stderr",
     "output_type": "stream",
     "text": [
      "Warning message:\n",
      "“[mask] Estimated disk space needed without compression: 16GB. Available: 8 GB.”\n"
     ]
    },
    {
     "name": "stdout",
     "output_type": "stream",
     "text": [
      "                                          \r"
     ]
    },
    {
     "name": "stderr",
     "output_type": "stream",
     "text": [
      "Warning message:\n",
      "“[mask] Estimated disk space needed without compression: 16GB. Available: 8 GB.”\n"
     ]
    },
    {
     "name": "stdout",
     "output_type": "stream",
     "text": [
      "                                          \r"
     ]
    },
    {
     "name": "stderr",
     "output_type": "stream",
     "text": [
      "Warning message:\n",
      "“[mask] Estimated disk space needed without compression: 16GB. Available: 8 GB.”\n"
     ]
    },
    {
     "name": "stdout",
     "output_type": "stream",
     "text": [
      "                                          \r"
     ]
    },
    {
     "name": "stderr",
     "output_type": "stream",
     "text": [
      "Warning message:\n",
      "“[mask] Estimated disk space needed without compression: 16GB. Available: 8 GB.”\n"
     ]
    },
    {
     "name": "stdout",
     "output_type": "stream",
     "text": [
      "                                          \r"
     ]
    },
    {
     "name": "stderr",
     "output_type": "stream",
     "text": [
      "Warning message:\n",
      "“[mask] Estimated disk space needed without compression: 16GB. Available: 8 GB.”\n"
     ]
    },
    {
     "name": "stdout",
     "output_type": "stream",
     "text": [
      "                                          \r"
     ]
    },
    {
     "name": "stderr",
     "output_type": "stream",
     "text": [
      "Warning message:\n",
      "“[mask] Estimated disk space needed without compression: 16GB. Available: 8 GB.”\n"
     ]
    },
    {
     "name": "stdout",
     "output_type": "stream",
     "text": [
      "                                          \r"
     ]
    },
    {
     "name": "stderr",
     "output_type": "stream",
     "text": [
      "Warning message:\n",
      "“[mask] Estimated disk space needed without compression: 16GB. Available: 8 GB.”\n"
     ]
    },
    {
     "name": "stdout",
     "output_type": "stream",
     "text": [
      "                                          \r"
     ]
    },
    {
     "name": "stderr",
     "output_type": "stream",
     "text": [
      "Warning message:\n",
      "“[mask] Estimated disk space needed without compression: 16GB. Available: 8 GB.”\n"
     ]
    },
    {
     "name": "stdout",
     "output_type": "stream",
     "text": [
      "                                          \r"
     ]
    },
    {
     "name": "stderr",
     "output_type": "stream",
     "text": [
      "Warning message:\n",
      "“[mask] Estimated disk space needed without compression: 16GB. Available: 8 GB.”\n"
     ]
    },
    {
     "name": "stdout",
     "output_type": "stream",
     "text": [
      "                                          \r"
     ]
    },
    {
     "name": "stderr",
     "output_type": "stream",
     "text": [
      "Warning message:\n",
      "“[mask] Estimated disk space needed without compression: 16GB. Available: 8 GB.”\n"
     ]
    },
    {
     "name": "stdout",
     "output_type": "stream",
     "text": [
      "                                          \r"
     ]
    },
    {
     "name": "stderr",
     "output_type": "stream",
     "text": [
      "Warning message:\n",
      "“[mask] Estimated disk space needed without compression: 16GB. Available: 8 GB.”\n"
     ]
    },
    {
     "name": "stdout",
     "output_type": "stream",
     "text": [
      "                                          \r"
     ]
    },
    {
     "name": "stderr",
     "output_type": "stream",
     "text": [
      "Warning message:\n",
      "“[mask] Estimated disk space needed without compression: 16GB. Available: 7 GB.”\n"
     ]
    },
    {
     "name": "stdout",
     "output_type": "stream",
     "text": [
      "                                          \r"
     ]
    },
    {
     "name": "stderr",
     "output_type": "stream",
     "text": [
      "Warning message:\n",
      "“[mask] Estimated disk space needed without compression: 16GB. Available: 8 GB.”\n"
     ]
    },
    {
     "name": "stdout",
     "output_type": "stream",
     "text": [
      "                                          \r"
     ]
    },
    {
     "name": "stderr",
     "output_type": "stream",
     "text": [
      "Warning message:\n",
      "“[mask] Estimated disk space needed without compression: 16GB. Available: 7 GB.”\n"
     ]
    },
    {
     "name": "stdout",
     "output_type": "stream",
     "text": [
      "                                          \r"
     ]
    },
    {
     "name": "stderr",
     "output_type": "stream",
     "text": [
      "Warning message:\n",
      "“[mask] Estimated disk space needed without compression: 16GB. Available: 7 GB.”\n"
     ]
    },
    {
     "name": "stdout",
     "output_type": "stream",
     "text": [
      "                                          \r"
     ]
    },
    {
     "name": "stderr",
     "output_type": "stream",
     "text": [
      "Warning message:\n",
      "“[mask] Estimated disk space needed without compression: 16GB. Available: 8 GB.”\n"
     ]
    },
    {
     "name": "stdout",
     "output_type": "stream",
     "text": [
      "                                          \r"
     ]
    },
    {
     "name": "stderr",
     "output_type": "stream",
     "text": [
      "Warning message:\n",
      "“[mask] Estimated disk space needed without compression: 16GB. Available: 7 GB.”\n"
     ]
    },
    {
     "name": "stdout",
     "output_type": "stream",
     "text": [
      "                                          \r"
     ]
    },
    {
     "name": "stderr",
     "output_type": "stream",
     "text": [
      "Warning message:\n",
      "“[mask] Estimated disk space needed without compression: 16GB. Available: 7 GB.”\n"
     ]
    },
    {
     "name": "stdout",
     "output_type": "stream",
     "text": [
      "                                          \r"
     ]
    },
    {
     "name": "stderr",
     "output_type": "stream",
     "text": [
      "Warning message:\n",
      "“[mask] Estimated disk space needed without compression: 16GB. Available: 8 GB.”\n"
     ]
    },
    {
     "name": "stdout",
     "output_type": "stream",
     "text": [
      "                                          \r"
     ]
    },
    {
     "name": "stderr",
     "output_type": "stream",
     "text": [
      "Warning message:\n",
      "“[mask] Estimated disk space needed without compression: 16GB. Available: 7 GB.”\n"
     ]
    },
    {
     "name": "stdout",
     "output_type": "stream",
     "text": [
      "                                          \r"
     ]
    },
    {
     "name": "stderr",
     "output_type": "stream",
     "text": [
      "Warning message:\n",
      "“[mask] Estimated disk space needed without compression: 16GB. Available: 7 GB.”\n"
     ]
    },
    {
     "name": "stdout",
     "output_type": "stream",
     "text": [
      "                                          \r"
     ]
    },
    {
     "name": "stderr",
     "output_type": "stream",
     "text": [
      "Warning message:\n",
      "“[mask] Estimated disk space needed without compression: 16GB. Available: 7 GB.”\n"
     ]
    },
    {
     "name": "stdout",
     "output_type": "stream",
     "text": [
      "                                          \r"
     ]
    },
    {
     "name": "stderr",
     "output_type": "stream",
     "text": [
      "Warning message:\n",
      "“[mask] Estimated disk space needed without compression: 16GB. Available: 7 GB.”\n"
     ]
    },
    {
     "name": "stdout",
     "output_type": "stream",
     "text": [
      "                                          \r"
     ]
    },
    {
     "name": "stderr",
     "output_type": "stream",
     "text": [
      "Warning message:\n",
      "“[mask] Estimated disk space needed without compression: 16GB. Available: 8 GB.”\n"
     ]
    },
    {
     "name": "stdout",
     "output_type": "stream",
     "text": [
      "                                          \r"
     ]
    },
    {
     "name": "stderr",
     "output_type": "stream",
     "text": [
      "Warning message:\n",
      "“[mask] Estimated disk space needed without compression: 16GB. Available: 8 GB.”\n"
     ]
    },
    {
     "name": "stdout",
     "output_type": "stream",
     "text": [
      "                                          \r"
     ]
    },
    {
     "name": "stderr",
     "output_type": "stream",
     "text": [
      "Warning message:\n",
      "“[mask] Estimated disk space needed without compression: 16GB. Available: 8 GB.”\n"
     ]
    },
    {
     "name": "stdout",
     "output_type": "stream",
     "text": [
      "                                          \r"
     ]
    },
    {
     "name": "stderr",
     "output_type": "stream",
     "text": [
      "Warning message:\n",
      "“[mask] Estimated disk space needed without compression: 16GB. Available: 8 GB.”\n"
     ]
    },
    {
     "name": "stdout",
     "output_type": "stream",
     "text": [
      "                                          \r"
     ]
    },
    {
     "name": "stderr",
     "output_type": "stream",
     "text": [
      "Warning message:\n",
      "“[mask] Estimated disk space needed without compression: 16GB. Available: 8 GB.”\n"
     ]
    },
    {
     "name": "stdout",
     "output_type": "stream",
     "text": [
      "                                          \r"
     ]
    },
    {
     "name": "stderr",
     "output_type": "stream",
     "text": [
      "Warning message:\n",
      "“[mask] Estimated disk space needed without compression: 16GB. Available: 7 GB.”\n"
     ]
    },
    {
     "name": "stdout",
     "output_type": "stream",
     "text": [
      "                                          \r"
     ]
    },
    {
     "name": "stderr",
     "output_type": "stream",
     "text": [
      "Warning message:\n",
      "“[mask] Estimated disk space needed without compression: 16GB. Available: 8 GB.”\n"
     ]
    },
    {
     "name": "stdout",
     "output_type": "stream",
     "text": [
      "                                          \r"
     ]
    },
    {
     "name": "stderr",
     "output_type": "stream",
     "text": [
      "Warning message:\n",
      "“[mask] Estimated disk space needed without compression: 16GB. Available: 8 GB.”\n"
     ]
    },
    {
     "name": "stdout",
     "output_type": "stream",
     "text": [
      "                                          \r"
     ]
    },
    {
     "name": "stderr",
     "output_type": "stream",
     "text": [
      "Warning message:\n",
      "“[mask] Estimated disk space needed without compression: 16GB. Available: 8 GB.”\n"
     ]
    },
    {
     "name": "stdout",
     "output_type": "stream",
     "text": [
      "                                          \r"
     ]
    },
    {
     "name": "stderr",
     "output_type": "stream",
     "text": [
      "Warning message:\n",
      "“[mask] Estimated disk space needed without compression: 16GB. Available: 8 GB.”\n"
     ]
    },
    {
     "name": "stdout",
     "output_type": "stream",
     "text": [
      "                                          \r"
     ]
    },
    {
     "name": "stderr",
     "output_type": "stream",
     "text": [
      "Warning message:\n",
      "“[mask] Estimated disk space needed without compression: 16GB. Available: 8 GB.”\n"
     ]
    },
    {
     "name": "stdout",
     "output_type": "stream",
     "text": [
      "                                          \r"
     ]
    },
    {
     "name": "stderr",
     "output_type": "stream",
     "text": [
      "Warning message:\n",
      "“[mask] Estimated disk space needed without compression: 16GB. Available: 8 GB.”\n"
     ]
    },
    {
     "name": "stdout",
     "output_type": "stream",
     "text": [
      "                                          \r"
     ]
    },
    {
     "name": "stderr",
     "output_type": "stream",
     "text": [
      "Warning message:\n",
      "“[mask] Estimated disk space needed without compression: 16GB. Available: 7 GB.”\n"
     ]
    },
    {
     "name": "stdout",
     "output_type": "stream",
     "text": [
      "                                          \r"
     ]
    },
    {
     "name": "stderr",
     "output_type": "stream",
     "text": [
      "Warning message:\n",
      "“[mask] Estimated disk space needed without compression: 16GB. Available: 8 GB.”\n"
     ]
    },
    {
     "name": "stdout",
     "output_type": "stream",
     "text": [
      "                                          \r"
     ]
    },
    {
     "name": "stderr",
     "output_type": "stream",
     "text": [
      "Warning message:\n",
      "“[mask] Estimated disk space needed without compression: 16GB. Available: 7 GB.”\n"
     ]
    },
    {
     "name": "stdout",
     "output_type": "stream",
     "text": [
      "                                          \r"
     ]
    },
    {
     "name": "stderr",
     "output_type": "stream",
     "text": [
      "Warning message:\n",
      "“[mask] Estimated disk space needed without compression: 16GB. Available: 8 GB.”\n"
     ]
    }
   ],
   "source": [
    "eco_crop_func(terr_stack, hucs, datapath)"
   ]
  },
  {
   "cell_type": "code",
   "execution_count": 20,
   "id": "c5d0356a-189a-41f4-876f-c27dda0a8f88",
   "metadata": {},
   "outputs": [
    {
     "name": "stdout",
     "output_type": "stream",
     "text": [
      "                                          \r"
     ]
    }
   ],
   "source": [
    "eco_crop_func(wa_spec, hucs, datapath)"
   ]
  },
  {
   "cell_type": "code",
   "execution_count": null,
   "id": "63dfd913-febe-45fd-9953-5c4ce0ed7321",
   "metadata": {},
   "outputs": [],
   "source": []
  },
  {
   "cell_type": "code",
   "execution_count": null,
   "id": "f0f1a59c-a051-4e9e-892a-07db83ad651f",
   "metadata": {},
   "outputs": [],
   "source": []
  }
 ],
 "metadata": {
  "kernelspec": {
   "display_name": "R",
   "language": "R",
   "name": "ir"
  },
  "language_info": {
   "codemirror_mode": "r",
   "file_extension": ".r",
   "mimetype": "text/x-r-source",
   "name": "R",
   "pygments_lexer": "r",
   "version": "4.3.2"
  }
 },
 "nbformat": 4,
 "nbformat_minor": 5
}
