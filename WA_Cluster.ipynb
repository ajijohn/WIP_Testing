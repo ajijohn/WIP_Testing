{
 "cells": [
  {
   "cell_type": "code",
   "execution_count": 1,
   "id": "d1933b7c-6e56-4860-9e3d-3fc4454b7940",
   "metadata": {
    "scrolled": true
   },
   "outputs": [
    {
     "name": "stderr",
     "output_type": "stream",
     "text": [
      "terra 1.7.71\n",
      "\n",
      "\n",
      "Attaching package: ‘tidyterra’\n",
      "\n",
      "\n",
      "The following object is masked from ‘package:stats’:\n",
      "\n",
      "    filter\n",
      "\n",
      "\n",
      "\n",
      "Attaching package: ‘dplyr’\n",
      "\n",
      "\n",
      "The following objects are masked from ‘package:terra’:\n",
      "\n",
      "    intersect, union\n",
      "\n",
      "\n",
      "The following objects are masked from ‘package:stats’:\n",
      "\n",
      "    filter, lag\n",
      "\n",
      "\n",
      "The following objects are masked from ‘package:base’:\n",
      "\n",
      "    intersect, setdiff, setequal, union\n",
      "\n",
      "\n",
      "randomForest 4.7-1.1\n",
      "\n",
      "Type rfNews() to see new features/changes/bug fixes.\n",
      "\n",
      "\n",
      "Attaching package: ‘randomForest’\n",
      "\n",
      "\n",
      "The following object is masked from ‘package:dplyr’:\n",
      "\n",
      "    combine\n",
      "\n",
      "\n"
     ]
    }
   ],
   "source": [
    "library(terra)\n",
    "library(tidyterra)\n",
    "library(dplyr)\n",
    "library(randomForest)\n",
    "\n"
   ]
  },
  {
   "cell_type": "code",
   "execution_count": 2,
   "id": "eda4b620-e58e-400f-b0f3-4de124685c6a",
   "metadata": {},
   "outputs": [
    {
     "data": {
      "text/plain": [
       " class       : SpatVector \n",
       " geometry    : polygons \n",
       " dimensions  : 9, 1  (geometries, attributes)\n",
       " extent      : 371124.2, 971138, 5043576, 5444546  (xmin, xmax, ymin, ymax)\n",
       " coord. ref. : NAD83(HARN) / UTM zone 10N (EPSG:3740) \n",
       " names       :        US_L3NAME\n",
       " type        :            <chr>\n",
       " values      :      Coast Range\n",
       "               Columbia Plateau\n",
       "                 Blue Mountains"
      ]
     },
     "metadata": {},
     "output_type": "display_data"
    }
   ],
   "source": [
    "wa_shp <- vect(\"data/wa_shp_diss.gpkg\")\n",
    "wa_ecoreg <- vect(\"data/wa_l3_eco/wa_eco_l3.shp\") |> project(\"EPSG:3740\") |> tidyterra::select(US_L3NAME)\n",
    "wa_ecoreg"
   ]
  },
  {
   "cell_type": "code",
   "execution_count": 3,
   "id": "26850be5-6820-446c-bd1b-3249b90c5699",
   "metadata": {},
   "outputs": [],
   "source": [
    "ppt <- rast(\"data/stack_data/PRISM/wa_ppt.tif\")\n",
    "tmean <- rast(\"data/stack_data/PRISM/wa_tmean.tif\")\n",
    "vpd <- rast(\"data/stack_data/PRISM/wa_vpd.tif\")\n",
    "clim_stack <- c(ppt, tmean, vpd)"
   ]
  },
  {
   "cell_type": "code",
   "execution_count": 7,
   "id": "fd53d546-1098-4000-91f8-dd89d303ac4e",
   "metadata": {
    "scrolled": true
   },
   "outputs": [
    {
     "data": {
      "text/html": [
       "<style>\n",
       ".list-inline {list-style: none; margin:0; padding: 0}\n",
       ".list-inline>li {display: inline-block}\n",
       ".list-inline>li:not(:last-child)::after {content: \"\\00b7\"; padding: 0 .5ex}\n",
       "</style>\n",
       "<ol class=list-inline><li>'data/stack_data/wa_dem_diss_prj3740.tif'</li><li>'data/stack_data/wa_dev27msk.tif'</li><li>'data/stack_data/wa_dev3msk.tif'</li><li>'data/stack_data/wa_dev81msk.tif'</li><li>'data/stack_data/wa_dinfpoint.tif'</li><li>'data/stack_data/wa_dinfsca.tif'</li><li>'data/stack_data/wa_planc.tif'</li><li>'data/stack_data/wa_profc.tif'</li><li>'data/stack_data/wa_rugged.tif'</li><li>'data/stack_data/wa_slope.tif'</li><li>'data/stack_data/wa_twi.tif'</li></ol>\n"
      ],
      "text/latex": [
       "\\begin{enumerate*}\n",
       "\\item 'data/stack\\_data/wa\\_dem\\_diss\\_prj3740.tif'\n",
       "\\item 'data/stack\\_data/wa\\_dev27msk.tif'\n",
       "\\item 'data/stack\\_data/wa\\_dev3msk.tif'\n",
       "\\item 'data/stack\\_data/wa\\_dev81msk.tif'\n",
       "\\item 'data/stack\\_data/wa\\_dinfpoint.tif'\n",
       "\\item 'data/stack\\_data/wa\\_dinfsca.tif'\n",
       "\\item 'data/stack\\_data/wa\\_planc.tif'\n",
       "\\item 'data/stack\\_data/wa\\_profc.tif'\n",
       "\\item 'data/stack\\_data/wa\\_rugged.tif'\n",
       "\\item 'data/stack\\_data/wa\\_slope.tif'\n",
       "\\item 'data/stack\\_data/wa\\_twi.tif'\n",
       "\\end{enumerate*}\n"
      ],
      "text/markdown": [
       "1. 'data/stack_data/wa_dem_diss_prj3740.tif'\n",
       "2. 'data/stack_data/wa_dev27msk.tif'\n",
       "3. 'data/stack_data/wa_dev3msk.tif'\n",
       "4. 'data/stack_data/wa_dev81msk.tif'\n",
       "5. 'data/stack_data/wa_dinfpoint.tif'\n",
       "6. 'data/stack_data/wa_dinfsca.tif'\n",
       "7. 'data/stack_data/wa_planc.tif'\n",
       "8. 'data/stack_data/wa_profc.tif'\n",
       "9. 'data/stack_data/wa_rugged.tif'\n",
       "10. 'data/stack_data/wa_slope.tif'\n",
       "11. 'data/stack_data/wa_twi.tif'\n",
       "\n",
       "\n"
      ],
      "text/plain": [
       " [1] \"data/stack_data/wa_dem_diss_prj3740.tif\"\n",
       " [2] \"data/stack_data/wa_dev27msk.tif\"        \n",
       " [3] \"data/stack_data/wa_dev3msk.tif\"         \n",
       " [4] \"data/stack_data/wa_dev81msk.tif\"        \n",
       " [5] \"data/stack_data/wa_dinfpoint.tif\"       \n",
       " [6] \"data/stack_data/wa_dinfsca.tif\"         \n",
       " [7] \"data/stack_data/wa_planc.tif\"           \n",
       " [8] \"data/stack_data/wa_profc.tif\"           \n",
       " [9] \"data/stack_data/wa_rugged.tif\"          \n",
       "[10] \"data/stack_data/wa_slope.tif\"           \n",
       "[11] \"data/stack_data/wa_twi.tif\"             "
      ]
     },
     "metadata": {},
     "output_type": "display_data"
    },
    {
     "data": {
      "text/plain": [
       "class       : SpatRaster \n",
       "dimensions  : 16959, 25378, 10  (nrow, ncol, nlyr)\n",
       "resolution  : 23.64304, 23.64304  (x, y)\n",
       "extent      : 371131.6, 971144.8, 5043580, 5444542  (xmin, xmax, ymin, ymax)\n",
       "coord. ref. : NAD83(HARN) / UTM zone 10N (EPSG:3740) \n",
       "sources     : wa_dem_diss_prj3740.tif  \n",
       "              wa_dev27msk.tif  \n",
       "              wa_dev3msk.tif  \n",
       "              ... and 7 more source(s)\n",
       "names       : NASAD~9w125,  wa_dev27,   wa_dev3,  wa_dev81, wa_dinfsca, wa_planc, ... \n",
       "min values  :   -35.65501, -13.49994, -13.55343, -18.42358,         ? ,       ? , ... \n",
       "max values  :  4373.03906,  10.51795,  13.55344,  13.27825,         ? ,       ? , ... "
      ]
     },
     "metadata": {},
     "output_type": "display_data"
    }
   ],
   "source": [
    "list_files <- list.files(path = \"data/stack_data\", full.names = TRUE, pattern = \".tif\", include.dirs = FALSE)\n",
    "list_files\n",
    "terr_stack<- rast(list_files)\n",
    "terr_stack <- terra::subset(terr_stack, \"wa_dinfpoint\", negate = TRUE)\n",
    "terr_stack"
   ]
  },
  {
   "cell_type": "code",
   "execution_count": 8,
   "id": "188d09c6-d768-42ef-8c1f-219157ee8bb1",
   "metadata": {},
   "outputs": [
    {
     "data": {
      "text/plain": [
       "class       : SpatRaster \n",
       "dimensions  : 13366, 20286, 6  (nrow, ncol, nlyr)\n",
       "resolution  : 30, 30  (x, y)\n",
       "extent      : 362550, 971130, 5043570, 5444550  (xmin, xmax, ymin, ymax)\n",
       "coord. ref. : NAD83(HARN) / UTM zone 10N (EPSG:3740) \n",
       "source      : WA_median_mosaic.tif \n",
       "names       : tree_~cover, NDVI_median, MNDWI_median, EVI_median, SAVI_median, NDYI_median \n",
       "min values  :           0,  -0.9962001,   -0.9924589,  -4.290172,  -0.3153680,   -2.461545 \n",
       "max values  :          86,   0.9955124,    0.9966356,   7.263647,   0.8293253,    2.052344 "
      ]
     },
     "metadata": {},
     "output_type": "display_data"
    }
   ],
   "source": [
    "wa_spec<- rast(\"data/Spectral/WA_median_mosaic.tif\")\n",
    "wa_spec <- terra::subset(wa_spec, \"uncertainty\", negate = TRUE)\n",
    "wa_spec"
   ]
  },
  {
   "cell_type": "code",
   "execution_count": 9,
   "id": "ca6a784c-80b5-430a-b520-20ac9819f88b",
   "metadata": {},
   "outputs": [
    {
     "data": {
      "text/plain": [
       " class       : SpatVector \n",
       " geometry    : points \n",
       " dimensions  : 46607, 1  (geometries, attributes)\n",
       " extent      : 372213.1, 974284.3, 5040111, 5444105  (xmin, xmax, ymin, ymax)\n",
       " source      : wa_all_pts.gpkg\n",
       " coord. ref. : NAD83(HARN) / UTM zone 10N (EPSG:3740) \n",
       " names       : class\n",
       " type        : <chr>\n",
       " values      :   WET\n",
       "                 WET\n",
       "                 WET"
      ]
     },
     "metadata": {},
     "output_type": "display_data"
    }
   ],
   "source": [
    "wa_pts <- vect(\"data/wa_all_pts.gpkg\")\n",
    "wa_pts"
   ]
  },
  {
   "cell_type": "code",
   "execution_count": 10,
   "id": "f4ebc737-009d-4669-beeb-4d9b247d0442",
   "metadata": {},
   "outputs": [
    {
     "data": {
      "text/html": [
       "'/home/ajs0428/WIP Testing/data/regional/'"
      ],
      "text/latex": [
       "'/home/ajs0428/WIP Testing/data/regional/'"
      ],
      "text/markdown": [
       "'/home/ajs0428/WIP Testing/data/regional/'"
      ],
      "text/plain": [
       "[1] \"/home/ajs0428/WIP Testing/data/regional/\""
      ]
     },
     "metadata": {},
     "output_type": "display_data"
    }
   ],
   "source": [
    "datapath <- paste0(getwd(), \"/data/regional/\")\n",
    "datapath"
   ]
  },
  {
   "cell_type": "code",
   "execution_count": 18,
   "id": "2375eae0-771d-4ba4-a5d8-7c5fc0db0f05",
   "metadata": {},
   "outputs": [],
   "source": [
    "eco_crop_func <- function(stack, ecoreg, path) {\n",
    "    for(i in 1:length(ecoreg)){\n",
    "       terra::mask(stack, ecoreg[i],\n",
    "                    filename = paste0(path,deparse(substitute(stack)), gsub(\" \", \"\", paste0(values(ecoreg[i]))), \".tif\"), \n",
    "                   overwrite = TRUE,\n",
    "                  steps = nrow(stack[[1]]))\n",
    "    }\n",
    "}\n"
   ]
  },
  {
   "cell_type": "code",
   "execution_count": 19,
   "id": "b4aa7de5-9609-4bc6-80f7-1af4c31155d0",
   "metadata": {},
   "outputs": [],
   "source": [
    "terraOptions(memmin = 0.1, memfrac = 0.7, memmax = 0.1)"
   ]
  },
  {
   "cell_type": "code",
   "execution_count": 20,
   "id": "bb064937-5b1c-44bf-82e3-ef184dcf1ff8",
   "metadata": {
    "scrolled": true
   },
   "outputs": [
    {
     "name": "stdout",
     "output_type": "stream",
     "text": [
      "\n",
      "------------------------\n",
      "Memory (GB) \n",
      "------------------------\n",
      "check threshold : 0.1 (memmin)\n",
      "available       : 0.1 (memmax)\n",
      "allowed (70%)   : 0.07\n",
      "needed (n=1)    : 12.12\n",
      "------------------------\n",
      "proc in memory  : FALSE\n",
      "nr chunks       : 248\n",
      "------------------------\n"
     ]
    }
   ],
   "source": [
    "terra::mem_info(wa_spec)"
   ]
  },
  {
   "cell_type": "code",
   "execution_count": null,
   "id": "d63cdff8-7d6f-4de1-b6e6-758bd52522cb",
   "metadata": {},
   "outputs": [],
   "source": []
  },
  {
   "cell_type": "code",
   "execution_count": null,
   "id": "fd58de30-9c9b-4ce3-b798-1442989d7aaf",
   "metadata": {},
   "outputs": [],
   "source": [
    "eco_crop_func(terr_stack, wa_ecoreg, datapath)"
   ]
  },
  {
   "cell_type": "code",
   "execution_count": null,
   "id": "60ef2af8-1c96-435a-93b4-c9516ab0e151",
   "metadata": {},
   "outputs": [],
   "source": []
  }
 ],
 "metadata": {
  "kernelspec": {
   "display_name": "R",
   "language": "R",
   "name": "ir"
  },
  "language_info": {
   "codemirror_mode": "r",
   "file_extension": ".r",
   "mimetype": "text/x-r-source",
   "name": "R",
   "pygments_lexer": "r",
   "version": "4.3.2"
  }
 },
 "nbformat": 4,
 "nbformat_minor": 5
}
