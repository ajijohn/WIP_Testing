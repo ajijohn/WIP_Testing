{
 "cells": [
  {
   "cell_type": "code",
   "execution_count": 1,
   "id": "782253e3-852c-4d6f-9984-8238cecf741b",
   "metadata": {
    "scrolled": true
   },
   "outputs": [
    {
     "name": "stderr",
     "output_type": "stream",
     "text": [
      "terra 1.7.71\n",
      "\n",
      "Linking to GEOS 3.10.2, GDAL 3.4.3, PROJ 8.2.0; sf_use_s2() is TRUE\n",
      "\n",
      "\n",
      "Attaching package: ‘tidyterra’\n",
      "\n",
      "\n",
      "The following object is masked from ‘package:stats’:\n",
      "\n",
      "    filter\n",
      "\n",
      "\n",
      "Warning message in rgl.init(initValue, onlyNULL):\n",
      "“RGL: unable to open X11 display”\n",
      "Warning message:\n",
      "“'rgl.init' failed, running with 'rgl.useNULL = TRUE'.”\n",
      "randomForest 4.7-1.1\n",
      "\n",
      "Type rfNews() to see new features/changes/bug fixes.\n",
      "\n",
      "Loading required package: ggplot2\n",
      "\n",
      "\n",
      "Attaching package: ‘ggplot2’\n",
      "\n",
      "\n",
      "The following object is masked from ‘package:randomForest’:\n",
      "\n",
      "    margin\n",
      "\n",
      "\n",
      "Loading required package: lattice\n",
      "\n",
      "\n",
      "Attaching package: ‘vip’\n",
      "\n",
      "\n",
      "The following object is masked from ‘package:utils’:\n",
      "\n",
      "    vi\n",
      "\n",
      "\n",
      "\n",
      "Attaching package: ‘tmap’\n",
      "\n",
      "\n",
      "The following object is masked from ‘package:datasets’:\n",
      "\n",
      "    rivers\n",
      "\n",
      "\n"
     ]
    }
   ],
   "source": [
    "library(terra)\n",
    "library(sf)\n",
    "library(tidyterra)\n",
    "library(MultiscaleDTM)\n",
    "library(randomForest)\n",
    "library(caret)\n",
    "library(vip)\n",
    "library(rstac)\n",
    "library(whitebox)\n",
    "library(tmap)\n",
    "library(stringr)\n",
    "\n",
    "\n",
    "s_obj <- stac(\"https://planetarycomputer.microsoft.com/api/stac/v1\")"
   ]
  },
  {
   "cell_type": "code",
   "execution_count": 2,
   "id": "6a5550f1-d824-415b-89c6-532fdb4b9bf6",
   "metadata": {
    "scrolled": true
   },
   "outputs": [
    {
     "name": "stdout",
     "output_type": "stream",
     "text": [
      "\u001b[1m###STACItemCollection\u001b[22m\n",
      "- \u001b[1mfeatures\u001b[22m (10 item(s)):\n",
      "  - S2A_MSIL2A_20180828T132231_R038_T23LNF_20201027T054353\n",
      "  - S2A_MSIL2A_20180828T132231_R038_T23LNE_20201027T054349\n",
      "  - S2A_MSIL2A_20180828T132231_R038_T23LND_20201027T054349\n",
      "  - S2A_MSIL2A_20180828T132231_R038_T23LMF_20201027T054359\n",
      "  - S2A_MSIL2A_20180828T132231_R038_T23LME_20201027T054358\n",
      "  - S2A_MSIL2A_20180828T132231_R038_T23LMD_20201027T054354\n",
      "  - S2A_MSIL2A_20180828T132231_R038_T23LMC_20201027T054355\n",
      "  - S2A_MSIL2A_20180828T132231_R038_T23LLF_20201027T054355\n",
      "  - S2A_MSIL2A_20180828T132231_R038_T23LLE_20201027T054356\n",
      "  - S2A_MSIL2A_20180828T132231_R038_T23LLD_20201027T054357\n",
      "- \u001b[1massets:\u001b[22m \n",
      "AOT, B01, B02, B03, B04, B05, B06, B07, B08, B09, B11, B12, B8A, datastrip-metadata, granule-metadata, inspire-metadata, preview, product-metadata, rendered_preview, safe-manifest, SCL, tilejson, visual, WVP\n",
      "- \u001b[1mitem's fields:\u001b[22m \n",
      "assets, bbox, collection, geometry, id, links, properties, stac_extensions, stac_version, type\n"
     ]
    }
   ],
   "source": [
    "it_obj <- s_obj %>% \n",
    "    stac_search(collections = \"sentinel-2-l2a\",\n",
    "                datetime = \"2018-07-01T00:00:00Z/2018-08-30T00:00:00Z\",\n",
    "                limit = 10,\n",
    "                bbox = c(-47.02148, -17.35063, -42.53906, -12.98314)) %>%\n",
    "    get_request()\n",
    "\n",
    "print(it_obj)"
   ]
  },
  {
   "cell_type": "code",
   "execution_count": 3,
   "id": "32e1cb8f-950f-4666-992a-941601297ce4",
   "metadata": {},
   "outputs": [],
   "source": [
    "# list_files <- list.files(path = \"data/Spectral/\", full.names = TRUE, pattern = \".tif\", include.dirs = FALSE)\n",
    "# list_files[[2]]"
   ]
  },
  {
   "cell_type": "code",
   "execution_count": 4,
   "id": "62e4e927-649e-498f-91df-a9ff0a2bdf5b",
   "metadata": {},
   "outputs": [],
   "source": [
    "# for(i in 1:length(list_files)){\n",
    "#     terra::project(rast(list_files[[i]]), \"EPSG:3740\", \n",
    "#                    filename = paste0(str_sub(list_files[[i]], 1, 25), i, \"_prj3740.tif\"))\n",
    "# }"
   ]
  },
  {
   "cell_type": "code",
   "execution_count": 5,
   "id": "4e782b37-c288-4c94-b9a7-095c6128d34f",
   "metadata": {},
   "outputs": [
    {
     "data": {
      "text/html": [
       "<style>\n",
       ".list-inline {list-style: none; margin:0; padding: 0}\n",
       ".list-inline>li {display: inline-block}\n",
       ".list-inline>li:not(:last-child)::after {content: \"\\00b7\"; padding: 0 .5ex}\n",
       "</style>\n",
       "<ol class=list-inline><li>'data/Spectral//WA_median_1_prj3740.tif'</li><li>'data/Spectral//WA_median_2_prj3740.tif'</li><li>'data/Spectral//WA_median_3_prj3740.tif'</li><li>'data/Spectral//WA_median_4_prj3740.tif'</li><li>'data/Spectral//WA_median_5_prj3740.tif'</li><li>'data/Spectral//WA_median_6_prj3740.tif'</li></ol>\n"
      ],
      "text/latex": [
       "\\begin{enumerate*}\n",
       "\\item 'data/Spectral//WA\\_median\\_1\\_prj3740.tif'\n",
       "\\item 'data/Spectral//WA\\_median\\_2\\_prj3740.tif'\n",
       "\\item 'data/Spectral//WA\\_median\\_3\\_prj3740.tif'\n",
       "\\item 'data/Spectral//WA\\_median\\_4\\_prj3740.tif'\n",
       "\\item 'data/Spectral//WA\\_median\\_5\\_prj3740.tif'\n",
       "\\item 'data/Spectral//WA\\_median\\_6\\_prj3740.tif'\n",
       "\\end{enumerate*}\n"
      ],
      "text/markdown": [
       "1. 'data/Spectral//WA_median_1_prj3740.tif'\n",
       "2. 'data/Spectral//WA_median_2_prj3740.tif'\n",
       "3. 'data/Spectral//WA_median_3_prj3740.tif'\n",
       "4. 'data/Spectral//WA_median_4_prj3740.tif'\n",
       "5. 'data/Spectral//WA_median_5_prj3740.tif'\n",
       "6. 'data/Spectral//WA_median_6_prj3740.tif'\n",
       "\n",
       "\n"
      ],
      "text/plain": [
       "[1] \"data/Spectral//WA_median_1_prj3740.tif\"\n",
       "[2] \"data/Spectral//WA_median_2_prj3740.tif\"\n",
       "[3] \"data/Spectral//WA_median_3_prj3740.tif\"\n",
       "[4] \"data/Spectral//WA_median_4_prj3740.tif\"\n",
       "[5] \"data/Spectral//WA_median_5_prj3740.tif\"\n",
       "[6] \"data/Spectral//WA_median_6_prj3740.tif\""
      ]
     },
     "metadata": {},
     "output_type": "display_data"
    }
   ],
   "source": [
    "list_files <- list.files(path = \"data/Spectral/\", full.names = TRUE, pattern = \"3740.tif\", include.dirs = FALSE)\n",
    "list_files"
   ]
  },
  {
   "cell_type": "code",
   "execution_count": 11,
   "id": "63bf3703-7139-43ef-af0b-8d98cbb120b8",
   "metadata": {},
   "outputs": [],
   "source": [
    "terraOptions(memmin = 1, memmax =NA)"
   ]
  },
  {
   "cell_type": "code",
   "execution_count": 12,
   "id": "ef1bd0fc-0c83-4e6a-9a19-f29f1cc96f16",
   "metadata": {},
   "outputs": [
    {
     "name": "stdout",
     "output_type": "stream",
     "text": [
      "memfrac   : 0.6\n",
      "tolerance : 0.1\n",
      "verbose   : FALSE\n",
      "todisk    : FALSE\n",
      "tempdir   : /tmp/RtmpjS1XFn\n",
      "datatype  : FLT4S\n",
      "memmin    : 1\n",
      "progress  : 3\n"
     ]
    }
   ],
   "source": [
    "terraOptions()"
   ]
  },
  {
   "cell_type": "code",
   "execution_count": 15,
   "id": "e2b0007f-ddcb-4ac4-b2f5-088194e9955b",
   "metadata": {},
   "outputs": [
    {
     "name": "stdout",
     "output_type": "stream",
     "text": [
      "                                          \r"
     ]
    },
    {
     "data": {
      "text/plain": [
       "   user  system elapsed \n",
       " 83.183   7.479  93.271 "
      ]
     },
     "metadata": {},
     "output_type": "display_data"
    }
   ],
   "source": [
    "system.time(rast(list_files[[1]])+rast(list_files[[1]]))"
   ]
  },
  {
   "cell_type": "code",
   "execution_count": 16,
   "id": "646cdfff-229f-48df-9377-d9f9d8d91308",
   "metadata": {},
   "outputs": [],
   "source": [
    "terraOptions(memmin = 0.01, memmax =0.05)"
   ]
  },
  {
   "cell_type": "code",
   "execution_count": 17,
   "id": "c290dd1e-13f2-4e50-833d-4e9ee4a038e6",
   "metadata": {},
   "outputs": [
    {
     "name": "stdout",
     "output_type": "stream",
     "text": [
      "memfrac   : 0.6\n",
      "tolerance : 0.1\n",
      "verbose   : FALSE\n",
      "memmax    : 0.05\n",
      "todisk    : FALSE\n",
      "tempdir   : /tmp/RtmpjS1XFn\n",
      "datatype  : FLT4S\n",
      "memmin    : 0.01\n",
      "progress  : 3\n"
     ]
    }
   ],
   "source": [
    "terraOptions()"
   ]
  },
  {
   "cell_type": "code",
   "execution_count": 18,
   "id": "87bbe3a0-8069-40d6-a362-977d727b3c8b",
   "metadata": {},
   "outputs": [
    {
     "name": "stdout",
     "output_type": "stream",
     "text": [
      "                                          \r"
     ]
    },
    {
     "data": {
      "text/plain": [
       "   user  system elapsed \n",
       " 81.254   2.475  86.407 "
      ]
     },
     "metadata": {},
     "output_type": "display_data"
    }
   ],
   "source": [
    "system.time(rast(list_files[[1]])+rast(list_files[[1]]))"
   ]
  },
  {
   "cell_type": "code",
   "execution_count": 22,
   "id": "a969db51-f355-40a9-9bd6-058957177ff6",
   "metadata": {},
   "outputs": [],
   "source": [
    "wa_spec_sprc <- sprc(lapply(list_files, rast))"
   ]
  },
  {
   "cell_type": "code",
   "execution_count": 23,
   "id": "8f44316c-09af-475b-8db4-dd8f72d6c189",
   "metadata": {},
   "outputs": [
    {
     "data": {
      "text/plain": [
       "class       : SpatRasterCollection \n",
       "length      : 6 \n",
       "nrow        : 8960, 8960, 8960, 4406, 4406, 4406 \n",
       "ncol        : 8960, 8960, 2366, 8960, 8960, 2366 \n",
       "nlyr        :    7,    7,    7,    7,    7,    7 \n",
       "extent      : 362550, 971130, 5043570, 5444550  (xmin, xmax, ymin, ymax)\n",
       "crs (first) : NAD83(HARN) / UTM zone 10N (EPSG:3740) "
      ]
     },
     "metadata": {},
     "output_type": "display_data"
    }
   ],
   "source": [
    "wa_spec_sprc"
   ]
  },
  {
   "cell_type": "code",
   "execution_count": 26,
   "id": "1ec6474d-61b9-4126-8ae8-040873d7623d",
   "metadata": {},
   "outputs": [
    {
     "name": "stdout",
     "output_type": "stream",
     "text": [
      "                                          \r"
     ]
    }
   ],
   "source": [
    "wa_spec_merge <- terra::merge(wa_spec_sprc, filename = \"data/Spectral/WA_median_mosaic.tif\")"
   ]
  },
  {
   "cell_type": "code",
   "execution_count": 28,
   "id": "efc82dba-f1c2-400c-a113-58a917a2dffb",
   "metadata": {},
   "outputs": [],
   "source": []
  },
  {
   "cell_type": "code",
   "execution_count": null,
   "id": "ecd7691d-6561-4e94-befb-7872d216ee8c",
   "metadata": {},
   "outputs": [],
   "source": []
  }
 ],
 "metadata": {
  "kernelspec": {
   "display_name": "R",
   "language": "R",
   "name": "ir"
  },
  "language_info": {
   "codemirror_mode": "r",
   "file_extension": ".r",
   "mimetype": "text/x-r-source",
   "name": "R",
   "pygments_lexer": "r",
   "version": "4.3.2"
  }
 },
 "nbformat": 4,
 "nbformat_minor": 5
}
