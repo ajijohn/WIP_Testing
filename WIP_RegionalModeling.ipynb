{
 "cells": [
  {
   "cell_type": "code",
   "execution_count": 42,
   "id": "22e35656-3110-44bb-8462-103832ff5c47",
   "metadata": {
    "scrolled": true
   },
   "outputs": [],
   "source": [
    "library(terra)\n",
    "library(tidyterra)\n",
    "library(dplyr)\n",
    "library(randomForest)"
   ]
  },
  {
   "cell_type": "code",
   "execution_count": 43,
   "id": "37309a82-18d9-4249-8f8f-8bb9130c8e37",
   "metadata": {},
   "outputs": [
    {
     "data": {
      "text/html": [
       "<ol>\n",
       "\t<li>'data/regional/clim_stackCoastRange.tif'</li>\n",
       "\t<li>'data/regional/terr_stackCoastRange.tif'</li>\n",
       "\t<li>'data/regional/wa_specCoastRange.tif'</li>\n",
       "</ol>\n"
      ],
      "text/latex": [
       "\\begin{enumerate}\n",
       "\\item 'data/regional/clim\\_stackCoastRange.tif'\n",
       "\\item 'data/regional/terr\\_stackCoastRange.tif'\n",
       "\\item 'data/regional/wa\\_specCoastRange.tif'\n",
       "\\end{enumerate}\n"
      ],
      "text/markdown": [
       "1. 'data/regional/clim_stackCoastRange.tif'\n",
       "2. 'data/regional/terr_stackCoastRange.tif'\n",
       "3. 'data/regional/wa_specCoastRange.tif'\n",
       "\n",
       "\n"
      ],
      "text/plain": [
       "[[1]]\n",
       "[1] \"data/regional/clim_stackCoastRange.tif\"\n",
       "\n",
       "[[2]]\n",
       "[1] \"data/regional/terr_stackCoastRange.tif\"\n",
       "\n",
       "[[3]]\n",
       "[1] \"data/regional/wa_specCoastRange.tif\"\n"
      ]
     },
     "metadata": {},
     "output_type": "display_data"
    },
    {
     "data": {
      "text/plain": [
       "NULL"
      ]
     },
     "metadata": {},
     "output_type": "display_data"
    }
   ],
   "source": [
    "list_files <- as.list(list.files(path = \"data/regional\", full.names = TRUE, \n",
    "                         pattern = \"CoastRange.tif\", include.dirs = FALSE))\n",
    "list_files\n",
    "names(list_files)\n",
    "#rast(list_files[[2]])\n",
    "#cr_stack <- terra::subset(cr_stack, \"wa_dinfpoint\", negate = TRUE)\n"
   ]
  },
  {
   "cell_type": "code",
   "execution_count": 37,
   "id": "80c41cdc-347f-47c8-b07c-eb6e26123882",
   "metadata": {},
   "outputs": [
    {
     "data": {
      "text/html": [
       "<ol>\n",
       "\t<li>'data/regional/wa_specCoastRange.tif'</li>\n",
       "</ol>\n"
      ],
      "text/latex": [
       "\\begin{enumerate}\n",
       "\\item 'data/regional/wa\\_specCoastRange.tif'\n",
       "\\end{enumerate}\n"
      ],
      "text/markdown": [
       "1. 'data/regional/wa_specCoastRange.tif'\n",
       "\n",
       "\n"
      ],
      "text/plain": [
       "[[1]]\n",
       "[1] \"data/regional/wa_specCoastRange.tif\"\n"
      ]
     },
     "metadata": {},
     "output_type": "display_data"
    }
   ],
   "source": [
    "test <- list_files[grep('spec', (list_files))]\n",
    "test"
   ]
  },
  {
   "cell_type": "code",
   "execution_count": 40,
   "id": "28a87b8f-5ff5-49c9-beda-3eec6311dbeb",
   "metadata": {},
   "outputs": [
    {
     "data": {
      "text/html": [
       "'/home/ajs0428/WIP Testing/data/regional/'"
      ],
      "text/latex": [
       "'/home/ajs0428/WIP Testing/data/regional/'"
      ],
      "text/markdown": [
       "'/home/ajs0428/WIP Testing/data/regional/'"
      ],
      "text/plain": [
       "[1] \"/home/ajs0428/WIP Testing/data/regional/\""
      ]
     },
     "metadata": {},
     "output_type": "display_data"
    }
   ],
   "source": [
    "datapath <- paste0(getwd(), \"/data/regional/\")\n",
    "datapath"
   ]
  },
  {
   "cell_type": "code",
   "execution_count": null,
   "id": "0371942a-4d6e-4e73-836d-46e5852b9afc",
   "metadata": {},
   "outputs": [],
   "source": [
    "eco_crop_func <- function(files, path) {\n",
    "    terr_rast <- files[grep('terr', (files))]\n",
    "    spec_rast <- files[grep('spec', (files))]\n",
    "    clim_rast <- files[grep('clim', (files))]\n",
    "    \n",
    "    terra::resample(spec_rast, terr_rast,\n",
    "                    filename = paste0(path,deparse(substitute(spec_rast)), \n",
    "                                      gsub(\" \", \"\", paste0(values(ecoreg[i]))), \".tif\"), \n",
    "                    overwrite = TRUE, steps = nrow(spec_rast))\n",
    "}\n"
   ]
  },
  {
   "cell_type": "code",
   "execution_count": null,
   "id": "0db8db1b-a1f4-404c-a1d0-4f7782117569",
   "metadata": {},
   "outputs": [],
   "source": []
  },
  {
   "cell_type": "code",
   "execution_count": null,
   "id": "054ae1f9-6441-4e99-bf15-b1c30a5b1db5",
   "metadata": {},
   "outputs": [],
   "source": []
  }
 ],
 "metadata": {
  "kernelspec": {
   "display_name": "R",
   "language": "R",
   "name": "ir"
  },
  "language_info": {
   "codemirror_mode": "r",
   "file_extension": ".r",
   "mimetype": "text/x-r-source",
   "name": "R",
   "pygments_lexer": "r",
   "version": "4.3.2"
  }
 },
 "nbformat": 4,
 "nbformat_minor": 5
}
